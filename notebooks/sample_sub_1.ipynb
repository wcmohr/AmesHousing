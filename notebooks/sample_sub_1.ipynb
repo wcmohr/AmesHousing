{
 "cells": [
  {
   "cell_type": "code",
   "execution_count": 1,
   "id": "52ff738d-be0e-482f-9934-b3df0b3d4a5a",
   "metadata": {},
   "outputs": [],
   "source": [
    "import pandas as pd\n",
    "import numpy as np\n",
    "\n",
    "from sklearn.linear_model import LinearRegression, Lasso, RidgeCV, LassoCV, Ridge\n",
    "from sklearn.model_selection import train_test_split, cross_val_score\n",
    "from sklearn.preprocessing import PolynomialFeatures, StandardScaler\n",
    "from sklearn.metrics import r2_score, mean_squared_error"
   ]
  },
  {
   "cell_type": "markdown",
   "id": "e9e80d58-655e-42cd-b3a0-7e4dc631c9a6",
   "metadata": {},
   "source": [
    "### Load the data"
   ]
  },
  {
   "cell_type": "code",
   "execution_count": 2,
   "id": "ad2609e2-6c3b-4e92-a236-483902f557d8",
   "metadata": {},
   "outputs": [],
   "source": [
    "df_train = pd.read_csv('../datasets/train.csv')\n",
    "df_test = pd.read_csv('../datasets/test.csv')"
   ]
  },
  {
   "cell_type": "code",
   "execution_count": 3,
   "id": "8cf58077-c0d7-46aa-b337-050ec7fee53d",
   "metadata": {},
   "outputs": [],
   "source": [
    "df_train.columns = [col.lower().replace(\" \", '_') for col in df_train.columns]\n",
    "df_test.columns = [col.lower().replace(' ','_') for col in df_test.columns]"
   ]
  },
  {
   "cell_type": "code",
   "execution_count": 4,
   "id": "7d844f1b-52da-4c09-bf2e-6f14dc69a498",
   "metadata": {},
   "outputs": [],
   "source": [
    "df_train = df_train._get_numeric_data()"
   ]
  },
  {
   "cell_type": "code",
   "execution_count": 5,
   "id": "6e590ce3-db24-4283-8e78-3a217f343d6f",
   "metadata": {},
   "outputs": [],
   "source": [
    "df_test = df_test._get_numeric_data()"
   ]
  },
  {
   "cell_type": "code",
   "execution_count": 6,
   "id": "65a017bf-4589-4093-8084-ee5ed9c31f6d",
   "metadata": {},
   "outputs": [],
   "source": [
    "# alt: df_train.select_dtypes"
   ]
  },
  {
   "cell_type": "markdown",
   "id": "6193e273-4d29-4cb8-a6fc-085735594599",
   "metadata": {
    "tags": []
   },
   "source": [
    "### Data cleaning : origin"
   ]
  },
  {
   "cell_type": "code",
   "execution_count": 7,
   "id": "f0d0926d-5167-4ec3-92dc-17a838101747",
   "metadata": {},
   "outputs": [
    {
     "data": {
      "text/plain": [
       "((2051, 39), (878, 38))"
      ]
     },
     "execution_count": 7,
     "metadata": {},
     "output_type": "execute_result"
    }
   ],
   "source": [
    "df_train.shape, df_test.shape"
   ]
  },
  {
   "cell_type": "code",
   "execution_count": 8,
   "id": "a0281c4e-0694-4c7e-90e3-790f64f21472",
   "metadata": {},
   "outputs": [
    {
     "data": {
      "text/plain": [
       "{'saleprice'}"
      ]
     },
     "execution_count": 8,
     "metadata": {},
     "output_type": "execute_result"
    }
   ],
   "source": [
    "set(df_train.columns) - set(df_test.columns)"
   ]
  },
  {
   "cell_type": "code",
   "execution_count": 9,
   "id": "12ceda03-3f4e-4582-8a12-d6936bcb93ce",
   "metadata": {},
   "outputs": [
    {
     "data": {
      "text/plain": [
       "lot_frontage      330\n",
       "garage_yr_blt     114\n",
       "mas_vnr_area       22\n",
       "bsmt_half_bath      2\n",
       "bsmt_full_bath      2\n",
       "bsmtfin_sf_1        1\n",
       "garage_cars         1\n",
       "garage_area         1\n",
       "total_bsmt_sf       1\n",
       "bsmt_unf_sf         1\n",
       "bsmtfin_sf_2        1\n",
       "dtype: int64"
      ]
     },
     "execution_count": 9,
     "metadata": {},
     "output_type": "execute_result"
    }
   ],
   "source": [
    "# check train nulls\n",
    "df_train.isnull().sum().sort_values(ascending = False).loc[lambda x: x>0]"
   ]
  },
  {
   "cell_type": "code",
   "execution_count": 10,
   "id": "0a326afa-7fc8-4688-96be-f03f75f53493",
   "metadata": {},
   "outputs": [
    {
     "data": {
      "text/plain": [
       "lot_frontage     160\n",
       "garage_yr_blt     45\n",
       "mas_vnr_area       1\n",
       "dtype: int64"
      ]
     },
     "execution_count": 10,
     "metadata": {},
     "output_type": "execute_result"
    }
   ],
   "source": [
    "# check test nulls\n",
    "\n",
    "df_test.isnull().sum().sort_values(ascending = False).loc[lambda x: x>0]"
   ]
  },
  {
   "cell_type": "code",
   "execution_count": 11,
   "id": "bed4dfd7-1a5d-45f6-b31f-45507e48c4bc",
   "metadata": {},
   "outputs": [],
   "source": [
    "#drop all nulls from train\n",
    "df_train.dropna(axis = 1, inplace = True)"
   ]
  },
  {
   "cell_type": "code",
   "execution_count": 12,
   "id": "117b4c93-afb0-4b36-9d30-7ea2a9305f49",
   "metadata": {},
   "outputs": [],
   "source": [
    "#drop same columns\n",
    "df_test = df_test[[col for col in df_train.columns if col != 'saleprice']].copy()"
   ]
  },
  {
   "cell_type": "code",
   "execution_count": 13,
   "id": "8205e44f-fa04-40f1-9127-41c80cc0ceb5",
   "metadata": {},
   "outputs": [
    {
     "data": {
      "text/plain": [
       "((2051, 28), (878, 27))"
      ]
     },
     "execution_count": 13,
     "metadata": {},
     "output_type": "execute_result"
    }
   ],
   "source": [
    "df_train.shape, df_test.shape"
   ]
  },
  {
   "cell_type": "markdown",
   "id": "057304a0-360f-476f-9d19-3549644bcb1d",
   "metadata": {},
   "source": [
    "#### Preprocessing the terrible threes"
   ]
  },
  {
   "cell_type": "code",
   "execution_count": 14,
   "id": "1fc2515e-9435-415b-ba8c-3af2d77f13ff",
   "metadata": {},
   "outputs": [
    {
     "data": {
      "text/html": [
       "<div>\n",
       "<style scoped>\n",
       "    .dataframe tbody tr th:only-of-type {\n",
       "        vertical-align: middle;\n",
       "    }\n",
       "\n",
       "    .dataframe tbody tr th {\n",
       "        vertical-align: top;\n",
       "    }\n",
       "\n",
       "    .dataframe thead th {\n",
       "        text-align: right;\n",
       "    }\n",
       "</style>\n",
       "<table border=\"1\" class=\"dataframe\">\n",
       "  <thead>\n",
       "    <tr style=\"text-align: right;\">\n",
       "      <th></th>\n",
       "      <th>id</th>\n",
       "      <th>pid</th>\n",
       "      <th>ms_subclass</th>\n",
       "      <th>lot_area</th>\n",
       "      <th>overall_qual</th>\n",
       "      <th>overall_cond</th>\n",
       "      <th>year_built</th>\n",
       "      <th>year_remod/add</th>\n",
       "      <th>1st_flr_sf</th>\n",
       "      <th>2nd_flr_sf</th>\n",
       "      <th>...</th>\n",
       "      <th>wood_deck_sf</th>\n",
       "      <th>open_porch_sf</th>\n",
       "      <th>enclosed_porch</th>\n",
       "      <th>3ssn_porch</th>\n",
       "      <th>screen_porch</th>\n",
       "      <th>pool_area</th>\n",
       "      <th>misc_val</th>\n",
       "      <th>mo_sold</th>\n",
       "      <th>yr_sold</th>\n",
       "      <th>saleprice</th>\n",
       "    </tr>\n",
       "  </thead>\n",
       "  <tbody>\n",
       "    <tr>\n",
       "      <th>0</th>\n",
       "      <td>109</td>\n",
       "      <td>533352170</td>\n",
       "      <td>60</td>\n",
       "      <td>13517</td>\n",
       "      <td>6</td>\n",
       "      <td>8</td>\n",
       "      <td>1976</td>\n",
       "      <td>2005</td>\n",
       "      <td>725</td>\n",
       "      <td>754</td>\n",
       "      <td>...</td>\n",
       "      <td>0</td>\n",
       "      <td>44</td>\n",
       "      <td>0</td>\n",
       "      <td>0</td>\n",
       "      <td>0</td>\n",
       "      <td>0</td>\n",
       "      <td>0</td>\n",
       "      <td>3</td>\n",
       "      <td>2010</td>\n",
       "      <td>130500</td>\n",
       "    </tr>\n",
       "    <tr>\n",
       "      <th>1</th>\n",
       "      <td>544</td>\n",
       "      <td>531379050</td>\n",
       "      <td>60</td>\n",
       "      <td>11492</td>\n",
       "      <td>7</td>\n",
       "      <td>5</td>\n",
       "      <td>1996</td>\n",
       "      <td>1997</td>\n",
       "      <td>913</td>\n",
       "      <td>1209</td>\n",
       "      <td>...</td>\n",
       "      <td>0</td>\n",
       "      <td>74</td>\n",
       "      <td>0</td>\n",
       "      <td>0</td>\n",
       "      <td>0</td>\n",
       "      <td>0</td>\n",
       "      <td>0</td>\n",
       "      <td>4</td>\n",
       "      <td>2009</td>\n",
       "      <td>220000</td>\n",
       "    </tr>\n",
       "    <tr>\n",
       "      <th>2</th>\n",
       "      <td>153</td>\n",
       "      <td>535304180</td>\n",
       "      <td>20</td>\n",
       "      <td>7922</td>\n",
       "      <td>5</td>\n",
       "      <td>7</td>\n",
       "      <td>1953</td>\n",
       "      <td>2007</td>\n",
       "      <td>1057</td>\n",
       "      <td>0</td>\n",
       "      <td>...</td>\n",
       "      <td>0</td>\n",
       "      <td>52</td>\n",
       "      <td>0</td>\n",
       "      <td>0</td>\n",
       "      <td>0</td>\n",
       "      <td>0</td>\n",
       "      <td>0</td>\n",
       "      <td>1</td>\n",
       "      <td>2010</td>\n",
       "      <td>109000</td>\n",
       "    </tr>\n",
       "    <tr>\n",
       "      <th>3</th>\n",
       "      <td>318</td>\n",
       "      <td>916386060</td>\n",
       "      <td>60</td>\n",
       "      <td>9802</td>\n",
       "      <td>5</td>\n",
       "      <td>5</td>\n",
       "      <td>2006</td>\n",
       "      <td>2007</td>\n",
       "      <td>744</td>\n",
       "      <td>700</td>\n",
       "      <td>...</td>\n",
       "      <td>100</td>\n",
       "      <td>0</td>\n",
       "      <td>0</td>\n",
       "      <td>0</td>\n",
       "      <td>0</td>\n",
       "      <td>0</td>\n",
       "      <td>0</td>\n",
       "      <td>4</td>\n",
       "      <td>2010</td>\n",
       "      <td>174000</td>\n",
       "    </tr>\n",
       "    <tr>\n",
       "      <th>4</th>\n",
       "      <td>255</td>\n",
       "      <td>906425045</td>\n",
       "      <td>50</td>\n",
       "      <td>14235</td>\n",
       "      <td>6</td>\n",
       "      <td>8</td>\n",
       "      <td>1900</td>\n",
       "      <td>1993</td>\n",
       "      <td>831</td>\n",
       "      <td>614</td>\n",
       "      <td>...</td>\n",
       "      <td>0</td>\n",
       "      <td>59</td>\n",
       "      <td>0</td>\n",
       "      <td>0</td>\n",
       "      <td>0</td>\n",
       "      <td>0</td>\n",
       "      <td>0</td>\n",
       "      <td>3</td>\n",
       "      <td>2010</td>\n",
       "      <td>138500</td>\n",
       "    </tr>\n",
       "  </tbody>\n",
       "</table>\n",
       "<p>5 rows × 28 columns</p>\n",
       "</div>"
      ],
      "text/plain": [
       "    id        pid  ms_subclass  lot_area  overall_qual  overall_cond  \\\n",
       "0  109  533352170           60     13517             6             8   \n",
       "1  544  531379050           60     11492             7             5   \n",
       "2  153  535304180           20      7922             5             7   \n",
       "3  318  916386060           60      9802             5             5   \n",
       "4  255  906425045           50     14235             6             8   \n",
       "\n",
       "   year_built  year_remod/add  1st_flr_sf  2nd_flr_sf  ...  wood_deck_sf  \\\n",
       "0        1976            2005         725         754  ...             0   \n",
       "1        1996            1997         913        1209  ...             0   \n",
       "2        1953            2007        1057           0  ...             0   \n",
       "3        2006            2007         744         700  ...           100   \n",
       "4        1900            1993         831         614  ...             0   \n",
       "\n",
       "   open_porch_sf  enclosed_porch  3ssn_porch  screen_porch  pool_area  \\\n",
       "0             44               0           0             0          0   \n",
       "1             74               0           0             0          0   \n",
       "2             52               0           0             0          0   \n",
       "3              0               0           0             0          0   \n",
       "4             59               0           0             0          0   \n",
       "\n",
       "   misc_val  mo_sold  yr_sold  saleprice  \n",
       "0         0        3     2010     130500  \n",
       "1         0        4     2009     220000  \n",
       "2         0        1     2010     109000  \n",
       "3         0        4     2010     174000  \n",
       "4         0        3     2010     138500  \n",
       "\n",
       "[5 rows x 28 columns]"
      ]
     },
     "execution_count": 14,
     "metadata": {},
     "output_type": "execute_result"
    }
   ],
   "source": [
    "df_train.head()"
   ]
  },
  {
   "cell_type": "code",
   "execution_count": 15,
   "id": "b53f6d50-d81f-4d8c-a410-9187c5ce416b",
   "metadata": {},
   "outputs": [],
   "source": [
    "# set up x and y\n",
    "X = df_train.drop(columns = ['pid','saleprice'])\n",
    "y = df_train['saleprice']"
   ]
  },
  {
   "cell_type": "code",
   "execution_count": 16,
   "id": "d25a61c1-7583-42c3-80e7-48dd161a415e",
   "metadata": {},
   "outputs": [],
   "source": [
    "df_test.drop(columns = 'pid', inplace = True)"
   ]
  },
  {
   "cell_type": "code",
   "execution_count": 17,
   "id": "b0c020ff-1cff-4441-8722-2815206e720c",
   "metadata": {},
   "outputs": [],
   "source": [
    "# split data into train and validation sets\n",
    "X_train, X_val, y_train, y_val = train_test_split(\n",
    "    X,\n",
    "    y,\n",
    "    test_size = .2,\n",
    "    random_state = 13\n",
    ")"
   ]
  },
  {
   "cell_type": "code",
   "execution_count": 18,
   "id": "e4d71d7d-c120-4b78-8d25-a7663a921a99",
   "metadata": {},
   "outputs": [],
   "source": [
    "# check shapes of train/val/test"
   ]
  },
  {
   "cell_type": "code",
   "execution_count": 19,
   "id": "ad5e99ba-df07-47de-a79a-57137ae4b5f5",
   "metadata": {},
   "outputs": [
    {
     "data": {
      "text/plain": [
       "((1640, 26), (411, 26), (878, 26))"
      ]
     },
     "execution_count": 19,
     "metadata": {},
     "output_type": "execute_result"
    }
   ],
   "source": [
    "X_train.shape, X_val.shape, df_test.shape"
   ]
  },
  {
   "cell_type": "markdown",
   "id": "98c36c42-bf51-4b23-8c79-601b0f6324b5",
   "metadata": {
    "tags": []
   },
   "source": [
    "### Feature Engineering"
   ]
  },
  {
   "cell_type": "code",
   "execution_count": 20,
   "id": "dd7c59f0-2e6e-4963-90a0-ec43804bd470",
   "metadata": {},
   "outputs": [],
   "source": [
    "#instantiate polyfeat to simulate our engineering process"
   ]
  },
  {
   "cell_type": "code",
   "execution_count": 21,
   "id": "2e921e85-6960-4bd2-bdbe-9889a7bd870b",
   "metadata": {},
   "outputs": [],
   "source": [
    "#instantiate polyfeat to simulate our engineering process\n",
    "\n",
    "poly = PolynomialFeatures(degree = 3,\n",
    "                          interaction_only = False,\n",
    "                          include_bias = False\n",
    "                         )"
   ]
  },
  {
   "cell_type": "code",
   "execution_count": null,
   "id": "f27d48f4-fea2-4fad-a697-f53dad054875",
   "metadata": {},
   "outputs": [],
   "source": []
  },
  {
   "cell_type": "code",
   "execution_count": 22,
   "id": "4ef243d8-3f27-4d31-85f8-4b4244f09aa1",
   "metadata": {},
   "outputs": [],
   "source": [
    "#stash away id\n",
    "tr_id = X_train['id']\n",
    "val_id = X_val['id']"
   ]
  },
  {
   "cell_type": "code",
   "execution_count": 23,
   "id": "980b4402-6dcc-4610-b0fe-11985b5bcdbe",
   "metadata": {},
   "outputs": [],
   "source": [
    "X_train = poly.fit_transform(\n",
    "    X_train.drop(columns = 'id')\n",
    ")\n",
    "X_train = pd.DataFrame(X_train, columns = poly.get_feature_names_out())\n",
    "\n",
    "X_val = poly.transform(X_val.drop(columns = 'id'))\n",
    "X_val = pd.DataFrame(X_val, columns = poly.get_feature_names_out())"
   ]
  },
  {
   "cell_type": "markdown",
   "id": "3368347d-ee41-48bd-908c-4fcfb42c6d39",
   "metadata": {},
   "source": [
    "### More Preprocessing!"
   ]
  },
  {
   "cell_type": "code",
   "execution_count": 24,
   "id": "28aa5d40-e3d7-4d65-a4ed-60981e4c300d",
   "metadata": {},
   "outputs": [],
   "source": [
    "ss = StandardScaler()"
   ]
  },
  {
   "cell_type": "code",
   "execution_count": 25,
   "id": "d5f77d68-fd2a-434f-8964-309bea014b02",
   "metadata": {},
   "outputs": [],
   "source": [
    "Xs_train = ss.fit_transform(X_train)\n",
    "Xs_train = pd.DataFrame(Xs_train, columns = ss.get_feature_names_out())\n",
    "Xs_val = pd.DataFrame(ss.transform(X_val), columns = ss.get_feature_names_out())"
   ]
  },
  {
   "cell_type": "code",
   "execution_count": 26,
   "id": "c142d585-19ea-46b4-a952-435c43b3ba0f",
   "metadata": {},
   "outputs": [
    {
     "data": {
      "text/html": [
       "<style>#sk-container-id-1 {color: black;background-color: white;}#sk-container-id-1 pre{padding: 0;}#sk-container-id-1 div.sk-toggleable {background-color: white;}#sk-container-id-1 label.sk-toggleable__label {cursor: pointer;display: block;width: 100%;margin-bottom: 0;padding: 0.3em;box-sizing: border-box;text-align: center;}#sk-container-id-1 label.sk-toggleable__label-arrow:before {content: \"▸\";float: left;margin-right: 0.25em;color: #696969;}#sk-container-id-1 label.sk-toggleable__label-arrow:hover:before {color: black;}#sk-container-id-1 div.sk-estimator:hover label.sk-toggleable__label-arrow:before {color: black;}#sk-container-id-1 div.sk-toggleable__content {max-height: 0;max-width: 0;overflow: hidden;text-align: left;background-color: #f0f8ff;}#sk-container-id-1 div.sk-toggleable__content pre {margin: 0.2em;color: black;border-radius: 0.25em;background-color: #f0f8ff;}#sk-container-id-1 input.sk-toggleable__control:checked~div.sk-toggleable__content {max-height: 200px;max-width: 100%;overflow: auto;}#sk-container-id-1 input.sk-toggleable__control:checked~label.sk-toggleable__label-arrow:before {content: \"▾\";}#sk-container-id-1 div.sk-estimator input.sk-toggleable__control:checked~label.sk-toggleable__label {background-color: #d4ebff;}#sk-container-id-1 div.sk-label input.sk-toggleable__control:checked~label.sk-toggleable__label {background-color: #d4ebff;}#sk-container-id-1 input.sk-hidden--visually {border: 0;clip: rect(1px 1px 1px 1px);clip: rect(1px, 1px, 1px, 1px);height: 1px;margin: -1px;overflow: hidden;padding: 0;position: absolute;width: 1px;}#sk-container-id-1 div.sk-estimator {font-family: monospace;background-color: #f0f8ff;border: 1px dotted black;border-radius: 0.25em;box-sizing: border-box;margin-bottom: 0.5em;}#sk-container-id-1 div.sk-estimator:hover {background-color: #d4ebff;}#sk-container-id-1 div.sk-parallel-item::after {content: \"\";width: 100%;border-bottom: 1px solid gray;flex-grow: 1;}#sk-container-id-1 div.sk-label:hover label.sk-toggleable__label {background-color: #d4ebff;}#sk-container-id-1 div.sk-serial::before {content: \"\";position: absolute;border-left: 1px solid gray;box-sizing: border-box;top: 0;bottom: 0;left: 50%;z-index: 0;}#sk-container-id-1 div.sk-serial {display: flex;flex-direction: column;align-items: center;background-color: white;padding-right: 0.2em;padding-left: 0.2em;position: relative;}#sk-container-id-1 div.sk-item {position: relative;z-index: 1;}#sk-container-id-1 div.sk-parallel {display: flex;align-items: stretch;justify-content: center;background-color: white;position: relative;}#sk-container-id-1 div.sk-item::before, #sk-container-id-1 div.sk-parallel-item::before {content: \"\";position: absolute;border-left: 1px solid gray;box-sizing: border-box;top: 0;bottom: 0;left: 50%;z-index: -1;}#sk-container-id-1 div.sk-parallel-item {display: flex;flex-direction: column;z-index: 1;position: relative;background-color: white;}#sk-container-id-1 div.sk-parallel-item:first-child::after {align-self: flex-end;width: 50%;}#sk-container-id-1 div.sk-parallel-item:last-child::after {align-self: flex-start;width: 50%;}#sk-container-id-1 div.sk-parallel-item:only-child::after {width: 0;}#sk-container-id-1 div.sk-dashed-wrapped {border: 1px dashed gray;margin: 0 0.4em 0.5em 0.4em;box-sizing: border-box;padding-bottom: 0.4em;background-color: white;}#sk-container-id-1 div.sk-label label {font-family: monospace;font-weight: bold;display: inline-block;line-height: 1.2em;}#sk-container-id-1 div.sk-label-container {text-align: center;}#sk-container-id-1 div.sk-container {/* jupyter's `normalize.less` sets `[hidden] { display: none; }` but bootstrap.min.css set `[hidden] { display: none !important; }` so we also need the `!important` here to be able to override the default hidden behavior on the sphinx rendered scikit-learn.org. See: https://github.com/scikit-learn/scikit-learn/issues/21755 */display: inline-block !important;position: relative;}#sk-container-id-1 div.sk-text-repr-fallback {display: none;}</style><div id=\"sk-container-id-1\" class=\"sk-top-container\"><div class=\"sk-text-repr-fallback\"><pre>LinearRegression()</pre><b>In a Jupyter environment, please rerun this cell to show the HTML representation or trust the notebook. <br />On GitHub, the HTML representation is unable to render, please try loading this page with nbviewer.org.</b></div><div class=\"sk-container\" hidden><div class=\"sk-item\"><div class=\"sk-estimator sk-toggleable\"><input class=\"sk-toggleable__control sk-hidden--visually\" id=\"sk-estimator-id-1\" type=\"checkbox\" checked><label for=\"sk-estimator-id-1\" class=\"sk-toggleable__label sk-toggleable__label-arrow\">LinearRegression</label><div class=\"sk-toggleable__content\"><pre>LinearRegression()</pre></div></div></div></div></div>"
      ],
      "text/plain": [
       "LinearRegression()"
      ]
     },
     "execution_count": 26,
     "metadata": {},
     "output_type": "execute_result"
    }
   ],
   "source": [
    "lr = LinearRegression()\n",
    "\n",
    "#fit to scaled training data\n",
    "lr.fit(Xs_train, y_train)"
   ]
  },
  {
   "cell_type": "code",
   "execution_count": 27,
   "id": "994a5e48-3208-4537-b23d-7c51c5b1e1be",
   "metadata": {},
   "outputs": [
    {
     "data": {
      "text/plain": [
       "-7.878772546484077e+16"
      ]
     },
     "execution_count": 27,
     "metadata": {},
     "output_type": "execute_result"
    }
   ],
   "source": [
    "cross_val_score(lr, Xs_train, y_train).mean()"
   ]
  },
  {
   "cell_type": "code",
   "execution_count": 28,
   "id": "2561df24-98a9-4049-99a8-f32a26df0eee",
   "metadata": {},
   "outputs": [
    {
     "data": {
      "text/plain": [
       "(0.99999917729904, -6.12217708493759e+23)"
      ]
     },
     "execution_count": 28,
     "metadata": {},
     "output_type": "execute_result"
    }
   ],
   "source": [
    "#score it twice!\n",
    "\n",
    "lr.score(Xs_train, y_train), lr.score(Xs_val,y_val)"
   ]
  },
  {
   "cell_type": "code",
   "execution_count": 29,
   "id": "dce9ff0f-77bd-454d-873c-563a13e5eaff",
   "metadata": {},
   "outputs": [
    {
     "data": {
      "text/plain": [
       "71.992547324696"
      ]
     },
     "execution_count": 29,
     "metadata": {},
     "output_type": "execute_result"
    }
   ],
   "source": [
    "mean_squared_error(y_train, lr.predict(Xs_train))**.5"
   ]
  },
  {
   "cell_type": "code",
   "execution_count": 30,
   "id": "3088c824-4748-474c-aa6a-bc4792cd7d96",
   "metadata": {},
   "outputs": [
    {
     "data": {
      "text/plain": [
       "6.157470937400543e+16"
      ]
     },
     "execution_count": 30,
     "metadata": {},
     "output_type": "execute_result"
    }
   ],
   "source": [
    "mean_squared_error(y_val, lr.predict(Xs_val))**.5"
   ]
  },
  {
   "cell_type": "markdown",
   "id": "225cb102-5525-4bda-a979-ffcf461f211e",
   "metadata": {},
   "source": [
    "### How to combat overfitting\n",
    "1. More data\n",
    "2. Feature selection (reduce complexity)\n",
    "3. Regularization"
   ]
  },
  {
   "cell_type": "code",
   "execution_count": 31,
   "id": "f8110719-a721-4566-80e0-1467c084bfff",
   "metadata": {
    "tags": []
   },
   "outputs": [
    {
     "data": {
      "text/html": [
       "<style>#sk-container-id-2 {color: black;background-color: white;}#sk-container-id-2 pre{padding: 0;}#sk-container-id-2 div.sk-toggleable {background-color: white;}#sk-container-id-2 label.sk-toggleable__label {cursor: pointer;display: block;width: 100%;margin-bottom: 0;padding: 0.3em;box-sizing: border-box;text-align: center;}#sk-container-id-2 label.sk-toggleable__label-arrow:before {content: \"▸\";float: left;margin-right: 0.25em;color: #696969;}#sk-container-id-2 label.sk-toggleable__label-arrow:hover:before {color: black;}#sk-container-id-2 div.sk-estimator:hover label.sk-toggleable__label-arrow:before {color: black;}#sk-container-id-2 div.sk-toggleable__content {max-height: 0;max-width: 0;overflow: hidden;text-align: left;background-color: #f0f8ff;}#sk-container-id-2 div.sk-toggleable__content pre {margin: 0.2em;color: black;border-radius: 0.25em;background-color: #f0f8ff;}#sk-container-id-2 input.sk-toggleable__control:checked~div.sk-toggleable__content {max-height: 200px;max-width: 100%;overflow: auto;}#sk-container-id-2 input.sk-toggleable__control:checked~label.sk-toggleable__label-arrow:before {content: \"▾\";}#sk-container-id-2 div.sk-estimator input.sk-toggleable__control:checked~label.sk-toggleable__label {background-color: #d4ebff;}#sk-container-id-2 div.sk-label input.sk-toggleable__control:checked~label.sk-toggleable__label {background-color: #d4ebff;}#sk-container-id-2 input.sk-hidden--visually {border: 0;clip: rect(1px 1px 1px 1px);clip: rect(1px, 1px, 1px, 1px);height: 1px;margin: -1px;overflow: hidden;padding: 0;position: absolute;width: 1px;}#sk-container-id-2 div.sk-estimator {font-family: monospace;background-color: #f0f8ff;border: 1px dotted black;border-radius: 0.25em;box-sizing: border-box;margin-bottom: 0.5em;}#sk-container-id-2 div.sk-estimator:hover {background-color: #d4ebff;}#sk-container-id-2 div.sk-parallel-item::after {content: \"\";width: 100%;border-bottom: 1px solid gray;flex-grow: 1;}#sk-container-id-2 div.sk-label:hover label.sk-toggleable__label {background-color: #d4ebff;}#sk-container-id-2 div.sk-serial::before {content: \"\";position: absolute;border-left: 1px solid gray;box-sizing: border-box;top: 0;bottom: 0;left: 50%;z-index: 0;}#sk-container-id-2 div.sk-serial {display: flex;flex-direction: column;align-items: center;background-color: white;padding-right: 0.2em;padding-left: 0.2em;position: relative;}#sk-container-id-2 div.sk-item {position: relative;z-index: 1;}#sk-container-id-2 div.sk-parallel {display: flex;align-items: stretch;justify-content: center;background-color: white;position: relative;}#sk-container-id-2 div.sk-item::before, #sk-container-id-2 div.sk-parallel-item::before {content: \"\";position: absolute;border-left: 1px solid gray;box-sizing: border-box;top: 0;bottom: 0;left: 50%;z-index: -1;}#sk-container-id-2 div.sk-parallel-item {display: flex;flex-direction: column;z-index: 1;position: relative;background-color: white;}#sk-container-id-2 div.sk-parallel-item:first-child::after {align-self: flex-end;width: 50%;}#sk-container-id-2 div.sk-parallel-item:last-child::after {align-self: flex-start;width: 50%;}#sk-container-id-2 div.sk-parallel-item:only-child::after {width: 0;}#sk-container-id-2 div.sk-dashed-wrapped {border: 1px dashed gray;margin: 0 0.4em 0.5em 0.4em;box-sizing: border-box;padding-bottom: 0.4em;background-color: white;}#sk-container-id-2 div.sk-label label {font-family: monospace;font-weight: bold;display: inline-block;line-height: 1.2em;}#sk-container-id-2 div.sk-label-container {text-align: center;}#sk-container-id-2 div.sk-container {/* jupyter's `normalize.less` sets `[hidden] { display: none; }` but bootstrap.min.css set `[hidden] { display: none !important; }` so we also need the `!important` here to be able to override the default hidden behavior on the sphinx rendered scikit-learn.org. See: https://github.com/scikit-learn/scikit-learn/issues/21755 */display: inline-block !important;position: relative;}#sk-container-id-2 div.sk-text-repr-fallback {display: none;}</style><div id=\"sk-container-id-2\" class=\"sk-top-container\"><div class=\"sk-text-repr-fallback\"><pre>RidgeCV(alphas=array([1.00000000e+00, 1.12332403e+00, 1.26185688e+00, 1.41747416e+00,\n",
       "       1.59228279e+00, 1.78864953e+00, 2.00923300e+00, 2.25701972e+00,\n",
       "       2.53536449e+00, 2.84803587e+00, 3.19926714e+00, 3.59381366e+00,\n",
       "       4.03701726e+00, 4.53487851e+00, 5.09413801e+00, 5.72236766e+00,\n",
       "       6.42807312e+00, 7.22080902e+00, 8.11130831e+00, 9.11162756e+00,\n",
       "       1.02353102e+01, 1.14975700e+0...\n",
       "       6.89261210e+03, 7.74263683e+03, 8.69749003e+03, 9.77009957e+03,\n",
       "       1.09749877e+04, 1.23284674e+04, 1.38488637e+04, 1.55567614e+04,\n",
       "       1.74752840e+04, 1.96304065e+04, 2.20513074e+04, 2.47707636e+04,\n",
       "       2.78255940e+04, 3.12571585e+04, 3.51119173e+04, 3.94420606e+04,\n",
       "       4.43062146e+04, 4.97702356e+04, 5.59081018e+04, 6.28029144e+04,\n",
       "       7.05480231e+04, 7.92482898e+04, 8.90215085e+04, 1.00000000e+05]))</pre><b>In a Jupyter environment, please rerun this cell to show the HTML representation or trust the notebook. <br />On GitHub, the HTML representation is unable to render, please try loading this page with nbviewer.org.</b></div><div class=\"sk-container\" hidden><div class=\"sk-item\"><div class=\"sk-estimator sk-toggleable\"><input class=\"sk-toggleable__control sk-hidden--visually\" id=\"sk-estimator-id-2\" type=\"checkbox\" checked><label for=\"sk-estimator-id-2\" class=\"sk-toggleable__label sk-toggleable__label-arrow\">RidgeCV</label><div class=\"sk-toggleable__content\"><pre>RidgeCV(alphas=array([1.00000000e+00, 1.12332403e+00, 1.26185688e+00, 1.41747416e+00,\n",
       "       1.59228279e+00, 1.78864953e+00, 2.00923300e+00, 2.25701972e+00,\n",
       "       2.53536449e+00, 2.84803587e+00, 3.19926714e+00, 3.59381366e+00,\n",
       "       4.03701726e+00, 4.53487851e+00, 5.09413801e+00, 5.72236766e+00,\n",
       "       6.42807312e+00, 7.22080902e+00, 8.11130831e+00, 9.11162756e+00,\n",
       "       1.02353102e+01, 1.14975700e+0...\n",
       "       6.89261210e+03, 7.74263683e+03, 8.69749003e+03, 9.77009957e+03,\n",
       "       1.09749877e+04, 1.23284674e+04, 1.38488637e+04, 1.55567614e+04,\n",
       "       1.74752840e+04, 1.96304065e+04, 2.20513074e+04, 2.47707636e+04,\n",
       "       2.78255940e+04, 3.12571585e+04, 3.51119173e+04, 3.94420606e+04,\n",
       "       4.43062146e+04, 4.97702356e+04, 5.59081018e+04, 6.28029144e+04,\n",
       "       7.05480231e+04, 7.92482898e+04, 8.90215085e+04, 1.00000000e+05]))</pre></div></div></div></div></div>"
      ],
      "text/plain": [
       "RidgeCV(alphas=array([1.00000000e+00, 1.12332403e+00, 1.26185688e+00, 1.41747416e+00,\n",
       "       1.59228279e+00, 1.78864953e+00, 2.00923300e+00, 2.25701972e+00,\n",
       "       2.53536449e+00, 2.84803587e+00, 3.19926714e+00, 3.59381366e+00,\n",
       "       4.03701726e+00, 4.53487851e+00, 5.09413801e+00, 5.72236766e+00,\n",
       "       6.42807312e+00, 7.22080902e+00, 8.11130831e+00, 9.11162756e+00,\n",
       "       1.02353102e+01, 1.14975700e+0...\n",
       "       6.89261210e+03, 7.74263683e+03, 8.69749003e+03, 9.77009957e+03,\n",
       "       1.09749877e+04, 1.23284674e+04, 1.38488637e+04, 1.55567614e+04,\n",
       "       1.74752840e+04, 1.96304065e+04, 2.20513074e+04, 2.47707636e+04,\n",
       "       2.78255940e+04, 3.12571585e+04, 3.51119173e+04, 3.94420606e+04,\n",
       "       4.43062146e+04, 4.97702356e+04, 5.59081018e+04, 6.28029144e+04,\n",
       "       7.05480231e+04, 7.92482898e+04, 8.90215085e+04, 1.00000000e+05]))"
      ]
     },
     "execution_count": 31,
     "metadata": {},
     "output_type": "execute_result"
    }
   ],
   "source": [
    "ridge = RidgeCV(alphas = np.logspace(0,5,100))\n",
    "\n",
    "#fit to scaled training data\n",
    "ridge.fit(Xs_train, y_train)"
   ]
  },
  {
   "cell_type": "code",
   "execution_count": 32,
   "id": "7393a1ee-689a-4f57-8505-bd2287ddcf22",
   "metadata": {},
   "outputs": [
    {
     "data": {
      "text/plain": [
       "4862.601580065353"
      ]
     },
     "execution_count": 32,
     "metadata": {},
     "output_type": "execute_result"
    }
   ],
   "source": [
    "#what's our best alpha?\n",
    "ridge.alpha_"
   ]
  },
  {
   "cell_type": "code",
   "execution_count": 33,
   "id": "c9d35098-ec51-4279-93df-cf3858cccad6",
   "metadata": {},
   "outputs": [
    {
     "data": {
      "text/plain": [
       "0.8993853316820469"
      ]
     },
     "execution_count": 33,
     "metadata": {},
     "output_type": "execute_result"
    }
   ],
   "source": [
    "#score it twice!\n",
    "ridge.score(Xs_train, y_train)"
   ]
  },
  {
   "cell_type": "code",
   "execution_count": 34,
   "id": "6536ccf5-df56-46a5-a0de-07fd514933c1",
   "metadata": {},
   "outputs": [
    {
     "data": {
      "text/plain": [
       "0.6579512153779864"
      ]
     },
     "execution_count": 34,
     "metadata": {},
     "output_type": "execute_result"
    }
   ],
   "source": [
    "ridge.score(Xs_val, y_val)"
   ]
  },
  {
   "cell_type": "code",
   "execution_count": 35,
   "id": "208b09a8-1450-4d7e-bac2-e6f89e0cf2f0",
   "metadata": {},
   "outputs": [
    {
     "data": {
      "text/plain": [
       "25176.606286945058"
      ]
     },
     "execution_count": 35,
     "metadata": {},
     "output_type": "execute_result"
    }
   ],
   "source": [
    "mean_squared_error(y_train, ridge.predict(Xs_train))**.5"
   ]
  },
  {
   "cell_type": "code",
   "execution_count": 36,
   "id": "509a48c8-d1d7-440d-837c-3a03e0e384bc",
   "metadata": {},
   "outputs": [
    {
     "data": {
      "text/plain": [
       "46024.96350008821"
      ]
     },
     "execution_count": 36,
     "metadata": {},
     "output_type": "execute_result"
    }
   ],
   "source": [
    "mean_squared_error(y_val, ridge.predict(Xs_val))**.5"
   ]
  },
  {
   "cell_type": "markdown",
   "id": "20a89e0b-a5c2-4ee5-abc3-3c79be1b6467",
   "metadata": {
    "tags": []
   },
   "source": [
    "### Lasso time!"
   ]
  },
  {
   "cell_type": "code",
   "execution_count": 37,
   "id": "a0e11de5-3f6e-4197-82f1-28394c28725e",
   "metadata": {},
   "outputs": [],
   "source": [
    "import warnings"
   ]
  },
  {
   "cell_type": "code",
   "execution_count": 38,
   "id": "b13d4f6a-37d2-4721-aded-37c938918b62",
   "metadata": {
    "tags": []
   },
   "outputs": [],
   "source": [
    "#instantiate it!\n",
    "lasso = LassoCV(alphas = np.arange(.001,20,1))\n",
    "\n",
    "#fit it!\n",
    "with warnings.catch_warnings():\n",
    "    warnings.simplefilter('ignore')\n",
    "    lasso.fit(Xs_train, y_train)\n"
   ]
  },
  {
   "cell_type": "code",
   "execution_count": 39,
   "id": "0c507a21-4e29-43a3-8bcf-00a68de07a93",
   "metadata": {},
   "outputs": [
    {
     "data": {
      "text/plain": [
       "17.000999999999998"
      ]
     },
     "execution_count": 39,
     "metadata": {},
     "output_type": "execute_result"
    }
   ],
   "source": [
    "#what's our best alpha?\n",
    "lasso.alpha_"
   ]
  },
  {
   "cell_type": "code",
   "execution_count": 40,
   "id": "a36ab5f8-ca4f-493b-886b-14a0ab532de0",
   "metadata": {},
   "outputs": [
    {
     "data": {
      "text/plain": [
       "0.9541108150646257"
      ]
     },
     "execution_count": 40,
     "metadata": {},
     "output_type": "execute_result"
    }
   ],
   "source": [
    "#score it twice\n",
    "lasso.score(Xs_train, y_train)"
   ]
  },
  {
   "cell_type": "code",
   "execution_count": 41,
   "id": "983fcbba-dd39-45ab-a9e9-26f8566e2991",
   "metadata": {},
   "outputs": [
    {
     "data": {
      "text/plain": [
       "-1.5098785458100172"
      ]
     },
     "execution_count": 41,
     "metadata": {},
     "output_type": "execute_result"
    }
   ],
   "source": [
    "lasso.score(Xs_val, y_val)"
   ]
  },
  {
   "cell_type": "code",
   "execution_count": 42,
   "id": "be818d06-656a-4e91-bb2b-c6635d6f951f",
   "metadata": {},
   "outputs": [
    {
     "data": {
      "text/plain": [
       "17002.849492571037"
      ]
     },
     "execution_count": 42,
     "metadata": {},
     "output_type": "execute_result"
    }
   ],
   "source": [
    "mean_squared_error(y_train,lasso.predict(Xs_train))**.5"
   ]
  },
  {
   "cell_type": "code",
   "execution_count": 43,
   "id": "54304e60-8ed1-42b2-96e8-b956a61d8aaf",
   "metadata": {
    "tags": []
   },
   "outputs": [
    {
     "data": {
      "text/plain": [
       "124673.96745408075"
      ]
     },
     "execution_count": 43,
     "metadata": {},
     "output_type": "execute_result"
    }
   ],
   "source": [
    "mean_squared_error(y_val,lasso.predict(Xs_val))**.5"
   ]
  },
  {
   "cell_type": "code",
   "execution_count": 44,
   "id": "917d5ef8-5fd4-4eda-8afa-72d2b341b453",
   "metadata": {},
   "outputs": [],
   "source": [
    "#take the time to look at coefficients, \n",
    "#see which ones were zeroed out"
   ]
  },
  {
   "cell_type": "markdown",
   "id": "0bb3fe8c-cbf2-4593-b5da-d1571b29bb53",
   "metadata": {},
   "source": [
    "### at last: prediction time"
   ]
  },
  {
   "cell_type": "code",
   "execution_count": 45,
   "id": "95d86041-f580-4c4a-bc99-d11b06e48b27",
   "metadata": {
    "tags": []
   },
   "outputs": [
    {
     "data": {
      "text/html": [
       "<div>\n",
       "<style scoped>\n",
       "    .dataframe tbody tr th:only-of-type {\n",
       "        vertical-align: middle;\n",
       "    }\n",
       "\n",
       "    .dataframe tbody tr th {\n",
       "        vertical-align: top;\n",
       "    }\n",
       "\n",
       "    .dataframe thead th {\n",
       "        text-align: right;\n",
       "    }\n",
       "</style>\n",
       "<table border=\"1\" class=\"dataframe\">\n",
       "  <thead>\n",
       "    <tr style=\"text-align: right;\">\n",
       "      <th></th>\n",
       "      <th>id</th>\n",
       "      <th>ms_subclass</th>\n",
       "      <th>lot_area</th>\n",
       "      <th>overall_qual</th>\n",
       "      <th>overall_cond</th>\n",
       "      <th>year_built</th>\n",
       "      <th>year_remod/add</th>\n",
       "      <th>1st_flr_sf</th>\n",
       "      <th>2nd_flr_sf</th>\n",
       "      <th>low_qual_fin_sf</th>\n",
       "      <th>...</th>\n",
       "      <th>fireplaces</th>\n",
       "      <th>wood_deck_sf</th>\n",
       "      <th>open_porch_sf</th>\n",
       "      <th>enclosed_porch</th>\n",
       "      <th>3ssn_porch</th>\n",
       "      <th>screen_porch</th>\n",
       "      <th>pool_area</th>\n",
       "      <th>misc_val</th>\n",
       "      <th>mo_sold</th>\n",
       "      <th>yr_sold</th>\n",
       "    </tr>\n",
       "  </thead>\n",
       "  <tbody>\n",
       "    <tr>\n",
       "      <th>0</th>\n",
       "      <td>2658</td>\n",
       "      <td>190</td>\n",
       "      <td>9142</td>\n",
       "      <td>6</td>\n",
       "      <td>8</td>\n",
       "      <td>1910</td>\n",
       "      <td>1950</td>\n",
       "      <td>908</td>\n",
       "      <td>1020</td>\n",
       "      <td>0</td>\n",
       "      <td>...</td>\n",
       "      <td>0</td>\n",
       "      <td>0</td>\n",
       "      <td>60</td>\n",
       "      <td>112</td>\n",
       "      <td>0</td>\n",
       "      <td>0</td>\n",
       "      <td>0</td>\n",
       "      <td>0</td>\n",
       "      <td>4</td>\n",
       "      <td>2006</td>\n",
       "    </tr>\n",
       "    <tr>\n",
       "      <th>1</th>\n",
       "      <td>2718</td>\n",
       "      <td>90</td>\n",
       "      <td>9662</td>\n",
       "      <td>5</td>\n",
       "      <td>4</td>\n",
       "      <td>1977</td>\n",
       "      <td>1977</td>\n",
       "      <td>1967</td>\n",
       "      <td>0</td>\n",
       "      <td>0</td>\n",
       "      <td>...</td>\n",
       "      <td>0</td>\n",
       "      <td>170</td>\n",
       "      <td>0</td>\n",
       "      <td>0</td>\n",
       "      <td>0</td>\n",
       "      <td>0</td>\n",
       "      <td>0</td>\n",
       "      <td>0</td>\n",
       "      <td>8</td>\n",
       "      <td>2006</td>\n",
       "    </tr>\n",
       "    <tr>\n",
       "      <th>2</th>\n",
       "      <td>2414</td>\n",
       "      <td>60</td>\n",
       "      <td>17104</td>\n",
       "      <td>7</td>\n",
       "      <td>5</td>\n",
       "      <td>2006</td>\n",
       "      <td>2006</td>\n",
       "      <td>664</td>\n",
       "      <td>832</td>\n",
       "      <td>0</td>\n",
       "      <td>...</td>\n",
       "      <td>1</td>\n",
       "      <td>100</td>\n",
       "      <td>24</td>\n",
       "      <td>0</td>\n",
       "      <td>0</td>\n",
       "      <td>0</td>\n",
       "      <td>0</td>\n",
       "      <td>0</td>\n",
       "      <td>9</td>\n",
       "      <td>2006</td>\n",
       "    </tr>\n",
       "    <tr>\n",
       "      <th>3</th>\n",
       "      <td>1989</td>\n",
       "      <td>30</td>\n",
       "      <td>8520</td>\n",
       "      <td>5</td>\n",
       "      <td>6</td>\n",
       "      <td>1923</td>\n",
       "      <td>2006</td>\n",
       "      <td>968</td>\n",
       "      <td>0</td>\n",
       "      <td>0</td>\n",
       "      <td>...</td>\n",
       "      <td>0</td>\n",
       "      <td>0</td>\n",
       "      <td>0</td>\n",
       "      <td>184</td>\n",
       "      <td>0</td>\n",
       "      <td>0</td>\n",
       "      <td>0</td>\n",
       "      <td>0</td>\n",
       "      <td>7</td>\n",
       "      <td>2007</td>\n",
       "    </tr>\n",
       "    <tr>\n",
       "      <th>4</th>\n",
       "      <td>625</td>\n",
       "      <td>20</td>\n",
       "      <td>9500</td>\n",
       "      <td>6</td>\n",
       "      <td>5</td>\n",
       "      <td>1963</td>\n",
       "      <td>1963</td>\n",
       "      <td>1394</td>\n",
       "      <td>0</td>\n",
       "      <td>0</td>\n",
       "      <td>...</td>\n",
       "      <td>2</td>\n",
       "      <td>0</td>\n",
       "      <td>76</td>\n",
       "      <td>0</td>\n",
       "      <td>0</td>\n",
       "      <td>185</td>\n",
       "      <td>0</td>\n",
       "      <td>0</td>\n",
       "      <td>7</td>\n",
       "      <td>2009</td>\n",
       "    </tr>\n",
       "  </tbody>\n",
       "</table>\n",
       "<p>5 rows × 26 columns</p>\n",
       "</div>"
      ],
      "text/plain": [
       "     id  ms_subclass  lot_area  overall_qual  overall_cond  year_built  \\\n",
       "0  2658          190      9142             6             8        1910   \n",
       "1  2718           90      9662             5             4        1977   \n",
       "2  2414           60     17104             7             5        2006   \n",
       "3  1989           30      8520             5             6        1923   \n",
       "4   625           20      9500             6             5        1963   \n",
       "\n",
       "   year_remod/add  1st_flr_sf  2nd_flr_sf  low_qual_fin_sf  ...  fireplaces  \\\n",
       "0            1950         908        1020                0  ...           0   \n",
       "1            1977        1967           0                0  ...           0   \n",
       "2            2006         664         832                0  ...           1   \n",
       "3            2006         968           0                0  ...           0   \n",
       "4            1963        1394           0                0  ...           2   \n",
       "\n",
       "   wood_deck_sf  open_porch_sf  enclosed_porch  3ssn_porch  screen_porch  \\\n",
       "0             0             60             112           0             0   \n",
       "1           170              0               0           0             0   \n",
       "2           100             24               0           0             0   \n",
       "3             0              0             184           0             0   \n",
       "4             0             76               0           0           185   \n",
       "\n",
       "   pool_area  misc_val  mo_sold  yr_sold  \n",
       "0          0         0        4     2006  \n",
       "1          0         0        8     2006  \n",
       "2          0         0        9     2006  \n",
       "3          0         0        7     2007  \n",
       "4          0         0        7     2009  \n",
       "\n",
       "[5 rows x 26 columns]"
      ]
     },
     "execution_count": 45,
     "metadata": {},
     "output_type": "execute_result"
    }
   ],
   "source": [
    "df_test.head()"
   ]
  },
  {
   "cell_type": "code",
   "execution_count": 46,
   "id": "5666e71d-37e1-4784-9b41-bf96348abac7",
   "metadata": {},
   "outputs": [],
   "source": [
    "#stash id column\n",
    "test_id = df_test['id']\n",
    "\n",
    "#feature engineering simulation\n",
    "df_test = poly.transform(df_test.drop(columns='id'))"
   ]
  },
  {
   "cell_type": "code",
   "execution_count": 47,
   "id": "e7d1c6e9-d809-460a-bff3-40c724c0e2fd",
   "metadata": {},
   "outputs": [
    {
     "name": "stderr",
     "output_type": "stream",
     "text": [
      "/Users/william/opt/anaconda3/lib/python3.9/site-packages/sklearn/base.py:450: UserWarning: X does not have valid feature names, but StandardScaler was fitted with feature names\n",
      "  warnings.warn(\n"
     ]
    }
   ],
   "source": [
    "#standard scale and recreate dataframe\n",
    "Xs_test = pd.DataFrame(\n",
    "    ss.transform(df_test),\n",
    "    columns = poly.get_feature_names_out()\n",
    ")"
   ]
  },
  {
   "cell_type": "code",
   "execution_count": 48,
   "id": "d30e4772-1367-4fb6-b141-a945afffcaab",
   "metadata": {},
   "outputs": [],
   "source": [
    "lasso_sub = Lasso(alpha = lasso.alpha_)"
   ]
  },
  {
   "cell_type": "code",
   "execution_count": 49,
   "id": "5254a53b-0656-431c-b74f-8898b08acfd7",
   "metadata": {},
   "outputs": [
    {
     "name": "stderr",
     "output_type": "stream",
     "text": [
      "/Users/william/opt/anaconda3/lib/python3.9/site-packages/sklearn/linear_model/_coordinate_descent.py:648: ConvergenceWarning: Objective did not converge. You might want to increase the number of iterations, check the scale of the features or consider increasing regularisation. Duality gap: 1.052e+11, tolerance: 1.033e+09\n",
      "  model = cd_fast.enet_coordinate_descent(\n"
     ]
    },
    {
     "data": {
      "text/html": [
       "<style>#sk-container-id-3 {color: black;background-color: white;}#sk-container-id-3 pre{padding: 0;}#sk-container-id-3 div.sk-toggleable {background-color: white;}#sk-container-id-3 label.sk-toggleable__label {cursor: pointer;display: block;width: 100%;margin-bottom: 0;padding: 0.3em;box-sizing: border-box;text-align: center;}#sk-container-id-3 label.sk-toggleable__label-arrow:before {content: \"▸\";float: left;margin-right: 0.25em;color: #696969;}#sk-container-id-3 label.sk-toggleable__label-arrow:hover:before {color: black;}#sk-container-id-3 div.sk-estimator:hover label.sk-toggleable__label-arrow:before {color: black;}#sk-container-id-3 div.sk-toggleable__content {max-height: 0;max-width: 0;overflow: hidden;text-align: left;background-color: #f0f8ff;}#sk-container-id-3 div.sk-toggleable__content pre {margin: 0.2em;color: black;border-radius: 0.25em;background-color: #f0f8ff;}#sk-container-id-3 input.sk-toggleable__control:checked~div.sk-toggleable__content {max-height: 200px;max-width: 100%;overflow: auto;}#sk-container-id-3 input.sk-toggleable__control:checked~label.sk-toggleable__label-arrow:before {content: \"▾\";}#sk-container-id-3 div.sk-estimator input.sk-toggleable__control:checked~label.sk-toggleable__label {background-color: #d4ebff;}#sk-container-id-3 div.sk-label input.sk-toggleable__control:checked~label.sk-toggleable__label {background-color: #d4ebff;}#sk-container-id-3 input.sk-hidden--visually {border: 0;clip: rect(1px 1px 1px 1px);clip: rect(1px, 1px, 1px, 1px);height: 1px;margin: -1px;overflow: hidden;padding: 0;position: absolute;width: 1px;}#sk-container-id-3 div.sk-estimator {font-family: monospace;background-color: #f0f8ff;border: 1px dotted black;border-radius: 0.25em;box-sizing: border-box;margin-bottom: 0.5em;}#sk-container-id-3 div.sk-estimator:hover {background-color: #d4ebff;}#sk-container-id-3 div.sk-parallel-item::after {content: \"\";width: 100%;border-bottom: 1px solid gray;flex-grow: 1;}#sk-container-id-3 div.sk-label:hover label.sk-toggleable__label {background-color: #d4ebff;}#sk-container-id-3 div.sk-serial::before {content: \"\";position: absolute;border-left: 1px solid gray;box-sizing: border-box;top: 0;bottom: 0;left: 50%;z-index: 0;}#sk-container-id-3 div.sk-serial {display: flex;flex-direction: column;align-items: center;background-color: white;padding-right: 0.2em;padding-left: 0.2em;position: relative;}#sk-container-id-3 div.sk-item {position: relative;z-index: 1;}#sk-container-id-3 div.sk-parallel {display: flex;align-items: stretch;justify-content: center;background-color: white;position: relative;}#sk-container-id-3 div.sk-item::before, #sk-container-id-3 div.sk-parallel-item::before {content: \"\";position: absolute;border-left: 1px solid gray;box-sizing: border-box;top: 0;bottom: 0;left: 50%;z-index: -1;}#sk-container-id-3 div.sk-parallel-item {display: flex;flex-direction: column;z-index: 1;position: relative;background-color: white;}#sk-container-id-3 div.sk-parallel-item:first-child::after {align-self: flex-end;width: 50%;}#sk-container-id-3 div.sk-parallel-item:last-child::after {align-self: flex-start;width: 50%;}#sk-container-id-3 div.sk-parallel-item:only-child::after {width: 0;}#sk-container-id-3 div.sk-dashed-wrapped {border: 1px dashed gray;margin: 0 0.4em 0.5em 0.4em;box-sizing: border-box;padding-bottom: 0.4em;background-color: white;}#sk-container-id-3 div.sk-label label {font-family: monospace;font-weight: bold;display: inline-block;line-height: 1.2em;}#sk-container-id-3 div.sk-label-container {text-align: center;}#sk-container-id-3 div.sk-container {/* jupyter's `normalize.less` sets `[hidden] { display: none; }` but bootstrap.min.css set `[hidden] { display: none !important; }` so we also need the `!important` here to be able to override the default hidden behavior on the sphinx rendered scikit-learn.org. See: https://github.com/scikit-learn/scikit-learn/issues/21755 */display: inline-block !important;position: relative;}#sk-container-id-3 div.sk-text-repr-fallback {display: none;}</style><div id=\"sk-container-id-3\" class=\"sk-top-container\"><div class=\"sk-text-repr-fallback\"><pre>Lasso(alpha=17.000999999999998)</pre><b>In a Jupyter environment, please rerun this cell to show the HTML representation or trust the notebook. <br />On GitHub, the HTML representation is unable to render, please try loading this page with nbviewer.org.</b></div><div class=\"sk-container\" hidden><div class=\"sk-item\"><div class=\"sk-estimator sk-toggleable\"><input class=\"sk-toggleable__control sk-hidden--visually\" id=\"sk-estimator-id-3\" type=\"checkbox\" checked><label for=\"sk-estimator-id-3\" class=\"sk-toggleable__label sk-toggleable__label-arrow\">Lasso</label><div class=\"sk-toggleable__content\"><pre>Lasso(alpha=17.000999999999998)</pre></div></div></div></div></div>"
      ],
      "text/plain": [
       "Lasso(alpha=17.000999999999998)"
      ]
     },
     "execution_count": 49,
     "metadata": {},
     "output_type": "execute_result"
    }
   ],
   "source": [
    "lasso_sub.fit(Xs_train, y_train)"
   ]
  },
  {
   "cell_type": "code",
   "execution_count": 50,
   "id": "42e7d749-60ee-4cc4-a8f3-e1a1fddb38ad",
   "metadata": {},
   "outputs": [],
   "source": [
    "# make predictions\n",
    "preds = lasso_sub.predict(Xs_test)"
   ]
  },
  {
   "cell_type": "code",
   "execution_count": 51,
   "id": "743574b9-ea64-43c5-81f9-d49db47feccf",
   "metadata": {},
   "outputs": [
    {
     "data": {
      "text/plain": [
       "(878,)"
      ]
     },
     "execution_count": 51,
     "metadata": {},
     "output_type": "execute_result"
    }
   ],
   "source": [
    "preds.shape"
   ]
  },
  {
   "cell_type": "code",
   "execution_count": 52,
   "id": "0f9b6eee-0cff-4360-bd44-df7fe4a9133e",
   "metadata": {},
   "outputs": [],
   "source": [
    "preds = pd.DataFrame(preds,columns = ['SalePrice'])"
   ]
  },
  {
   "cell_type": "code",
   "execution_count": 53,
   "id": "c678b2d5-6f9d-4c83-9038-c5c66f5dab61",
   "metadata": {},
   "outputs": [],
   "source": [
    "preds.insert(loc = 0, column= 'Id', value = test_id)"
   ]
  },
  {
   "cell_type": "code",
   "execution_count": 54,
   "id": "cd0534a0-98f3-4925-9bce-6ca79e5cc658",
   "metadata": {},
   "outputs": [
    {
     "data": {
      "text/html": [
       "<div>\n",
       "<style scoped>\n",
       "    .dataframe tbody tr th:only-of-type {\n",
       "        vertical-align: middle;\n",
       "    }\n",
       "\n",
       "    .dataframe tbody tr th {\n",
       "        vertical-align: top;\n",
       "    }\n",
       "\n",
       "    .dataframe thead th {\n",
       "        text-align: right;\n",
       "    }\n",
       "</style>\n",
       "<table border=\"1\" class=\"dataframe\">\n",
       "  <thead>\n",
       "    <tr style=\"text-align: right;\">\n",
       "      <th></th>\n",
       "      <th>Id</th>\n",
       "      <th>SalePrice</th>\n",
       "    </tr>\n",
       "  </thead>\n",
       "  <tbody>\n",
       "    <tr>\n",
       "      <th>0</th>\n",
       "      <td>2658</td>\n",
       "      <td>153184.730208</td>\n",
       "    </tr>\n",
       "    <tr>\n",
       "      <th>1</th>\n",
       "      <td>2718</td>\n",
       "      <td>142415.989993</td>\n",
       "    </tr>\n",
       "    <tr>\n",
       "      <th>2</th>\n",
       "      <td>2414</td>\n",
       "      <td>183923.012326</td>\n",
       "    </tr>\n",
       "    <tr>\n",
       "      <th>3</th>\n",
       "      <td>1989</td>\n",
       "      <td>112071.958068</td>\n",
       "    </tr>\n",
       "    <tr>\n",
       "      <th>4</th>\n",
       "      <td>625</td>\n",
       "      <td>159215.397782</td>\n",
       "    </tr>\n",
       "    <tr>\n",
       "      <th>...</th>\n",
       "      <td>...</td>\n",
       "      <td>...</td>\n",
       "    </tr>\n",
       "    <tr>\n",
       "      <th>873</th>\n",
       "      <td>1662</td>\n",
       "      <td>177266.997781</td>\n",
       "    </tr>\n",
       "    <tr>\n",
       "      <th>874</th>\n",
       "      <td>1234</td>\n",
       "      <td>180706.695005</td>\n",
       "    </tr>\n",
       "    <tr>\n",
       "      <th>875</th>\n",
       "      <td>1373</td>\n",
       "      <td>129316.822789</td>\n",
       "    </tr>\n",
       "    <tr>\n",
       "      <th>876</th>\n",
       "      <td>1672</td>\n",
       "      <td>121207.955685</td>\n",
       "    </tr>\n",
       "    <tr>\n",
       "      <th>877</th>\n",
       "      <td>1939</td>\n",
       "      <td>113663.555743</td>\n",
       "    </tr>\n",
       "  </tbody>\n",
       "</table>\n",
       "<p>878 rows × 2 columns</p>\n",
       "</div>"
      ],
      "text/plain": [
       "       Id      SalePrice\n",
       "0    2658  153184.730208\n",
       "1    2718  142415.989993\n",
       "2    2414  183923.012326\n",
       "3    1989  112071.958068\n",
       "4     625  159215.397782\n",
       "..    ...            ...\n",
       "873  1662  177266.997781\n",
       "874  1234  180706.695005\n",
       "875  1373  129316.822789\n",
       "876  1672  121207.955685\n",
       "877  1939  113663.555743\n",
       "\n",
       "[878 rows x 2 columns]"
      ]
     },
     "execution_count": 54,
     "metadata": {},
     "output_type": "execute_result"
    }
   ],
   "source": [
    "preds"
   ]
  },
  {
   "cell_type": "code",
   "execution_count": 55,
   "id": "b8fb09e5-13f9-4b52-bb5c-761781de618b",
   "metadata": {},
   "outputs": [],
   "source": [
    "#save submission csv and get on that leaderboard!"
   ]
  },
  {
   "cell_type": "code",
   "execution_count": 56,
   "id": "f3619f8b-5429-4f59-90b8-bf769d3ba90d",
   "metadata": {},
   "outputs": [],
   "source": [
    "preds.to_csv('./lasso_3_simple.csv', index = False)"
   ]
  },
  {
   "cell_type": "code",
   "execution_count": 57,
   "id": "ff5eda98-a5ff-47b7-ab96-2285f0cce967",
   "metadata": {},
   "outputs": [],
   "source": [
    "# create function to store predictions into a dataframe"
   ]
  },
  {
   "cell_type": "code",
   "execution_count": null,
   "id": "56c5b477-220c-4666-9f0e-26f24e14cb2f",
   "metadata": {},
   "outputs": [],
   "source": []
  },
  {
   "cell_type": "code",
   "execution_count": null,
   "id": "8b7eee43-c4f4-4739-9572-962ecbdc6a28",
   "metadata": {},
   "outputs": [],
   "source": []
  }
 ],
 "metadata": {
  "kernelspec": {
   "display_name": "Python 3 (ipykernel)",
   "language": "python",
   "name": "python3"
  },
  "language_info": {
   "codemirror_mode": {
    "name": "ipython",
    "version": 3
   },
   "file_extension": ".py",
   "mimetype": "text/x-python",
   "name": "python",
   "nbconvert_exporter": "python",
   "pygments_lexer": "ipython3",
   "version": "3.9.7"
  }
 },
 "nbformat": 4,
 "nbformat_minor": 5
}
