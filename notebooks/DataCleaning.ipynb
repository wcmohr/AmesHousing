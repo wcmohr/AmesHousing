{
 "cells": [
  {
   "cell_type": "code",
   "execution_count": 55,
   "id": "85caaab9-d4c6-4261-bd7a-603206736c46",
   "metadata": {},
   "outputs": [],
   "source": [
    "#Imports\n",
    "import pandas as pd\n",
    "import sklearn as skl\n",
    "import matplotlib.pyplot as plt\n",
    "import seaborn as sns\n",
    "import numpy as np\n",
    "\n",
    "from sklearn.model_selection import train_test_split, cross_val_score\n",
    "from sklearn.linear_model import LinearRegression, Lasso, LassoCV, Ridge, \\\n",
    "RidgeCV, ElasticNet, ElasticNetCV\n",
    "\n",
    "from sklearn.impute import SimpleImputer\n",
    "from sklearn.preprocessing import OrdinalEncoder, OneHotEncoder, StandardScaler,\\\n",
    "                                  PolynomialFeatures\n",
    "\n",
    "from sklearn.compose import ColumnTransformer\n",
    "\n",
    "from sklearn.metrics import r2_score, mean_squared_error"
   ]
  },
  {
   "cell_type": "markdown",
   "id": "b4ad0ac7-7f44-4bdb-ba09-bcd9b6f4d091",
   "metadata": {},
   "source": [
    "data: http://jse.amstat.org/v19n3/decock/DataDocumentation.txt"
   ]
  },
  {
   "cell_type": "markdown",
   "id": "632b6030-5799-4aea-a163-654c8c14a2b4",
   "metadata": {
    "tags": []
   },
   "source": [
    "### Load the data"
   ]
  },
  {
   "cell_type": "markdown",
   "id": "353b8bcd-5610-4b0d-bec6-fd40f5b45d87",
   "metadata": {},
   "source": [
    "[reset pandas display options](https://stackoverflow.com/questions/26246864/restoring-the-default-display-context-in-pandas)"
   ]
  },
  {
   "cell_type": "code",
   "execution_count": 13,
   "id": "f5b1450c-0a36-4fcc-a93b-87ce4e2901cc",
   "metadata": {},
   "outputs": [],
   "source": [
    "houses = pd.read_csv('../datasets/train.csv')\n",
    "houses_test = pd.read_csv('../datasets/test.csv')\n",
    "pd.reset_option('^display.', silent=True)"
   ]
  },
  {
   "cell_type": "code",
   "execution_count": 14,
   "id": "144c19dd-e009-462d-8f6b-2a134b714b8e",
   "metadata": {},
   "outputs": [],
   "source": [
    "houses.columns = [col.lower().replace(\" \", '_').replace(\"/\", '_')  for col in \\\n",
    "                        houses.columns]\n",
    "houses_test.columns = [col.lower().replace(\" \", '_').replace(\"/\", '_')  \\\n",
    "                       for col in houses_test.columns]"
   ]
  },
  {
   "cell_type": "code",
   "execution_count": 15,
   "id": "cd0c368c-6387-4586-a9eb-dc68f67a4db2",
   "metadata": {
    "collapsed": true,
    "jupyter": {
     "outputs_hidden": true
    },
    "tags": []
   },
   "outputs": [
    {
     "data": {
      "text/plain": [
       "Index(['id', 'pid', 'ms_subclass', 'ms_zoning', 'lot_frontage', 'lot_area',\n",
       "       'street', 'alley', 'lot_shape', 'land_contour', 'utilities',\n",
       "       'lot_config', 'land_slope', 'neighborhood', 'condition_1',\n",
       "       'condition_2', 'bldg_type', 'house_style', 'overall_qual',\n",
       "       'overall_cond', 'year_built', 'year_remod_add', 'roof_style',\n",
       "       'roof_matl', 'exterior_1st', 'exterior_2nd', 'mas_vnr_type',\n",
       "       'mas_vnr_area', 'exter_qual', 'exter_cond', 'foundation', 'bsmt_qual',\n",
       "       'bsmt_cond', 'bsmt_exposure', 'bsmtfin_type_1', 'bsmtfin_sf_1',\n",
       "       'bsmtfin_type_2', 'bsmtfin_sf_2', 'bsmt_unf_sf', 'total_bsmt_sf',\n",
       "       'heating', 'heating_qc', 'central_air', 'electrical', '1st_flr_sf',\n",
       "       '2nd_flr_sf', 'low_qual_fin_sf', 'gr_liv_area', 'bsmt_full_bath',\n",
       "       'bsmt_half_bath', 'full_bath', 'half_bath', 'bedroom_abvgr',\n",
       "       'kitchen_abvgr', 'kitchen_qual', 'totrms_abvgrd', 'functional',\n",
       "       'fireplaces', 'fireplace_qu', 'garage_type', 'garage_yr_blt',\n",
       "       'garage_finish', 'garage_cars', 'garage_area', 'garage_qual',\n",
       "       'garage_cond', 'paved_drive', 'wood_deck_sf', 'open_porch_sf',\n",
       "       'enclosed_porch', '3ssn_porch', 'screen_porch', 'pool_area', 'pool_qc',\n",
       "       'fence', 'misc_feature', 'misc_val', 'mo_sold', 'yr_sold', 'sale_type',\n",
       "       'saleprice'],\n",
       "      dtype='object')"
      ]
     },
     "execution_count": 15,
     "metadata": {},
     "output_type": "execute_result"
    }
   ],
   "source": [
    "houses.columns"
   ]
  },
  {
   "cell_type": "markdown",
   "id": "04e43037-1b7e-42ca-a64f-f6409b867e95",
   "metadata": {
    "tags": []
   },
   "source": [
    "#### missing vals"
   ]
  },
  {
   "cell_type": "markdown",
   "id": "867d904b-6aff-4d3d-940e-f49955ed66d1",
   "metadata": {
    "tags": []
   },
   "source": [
    "##### missing vals resources\n",
    "\n",
    "[how to handle missing values](https://medium.com/analytics-vidhya/how-to-handle-missing-values-cbd03fb79ef8#:~:text=When%20column%20has%20more%20than,%25%20missing%20value%2C%20drop%20it.)"
   ]
  },
  {
   "cell_type": "markdown",
   "id": "5c1e2783-f1ba-4e97-af19-f664d03d04c7",
   "metadata": {
    "tags": []
   },
   "source": [
    "##### missing values analysis"
   ]
  },
  {
   "cell_type": "code",
   "execution_count": 16,
   "id": "d18d9ec7-334c-4862-9048-f89ea8293d60",
   "metadata": {
    "scrolled": true,
    "tags": []
   },
   "outputs": [
    {
     "data": {
      "text/html": [
       "<div>\n",
       "<style scoped>\n",
       "    .dataframe tbody tr th:only-of-type {\n",
       "        vertical-align: middle;\n",
       "    }\n",
       "\n",
       "    .dataframe tbody tr th {\n",
       "        vertical-align: top;\n",
       "    }\n",
       "\n",
       "    .dataframe thead th {\n",
       "        text-align: right;\n",
       "    }\n",
       "</style>\n",
       "<table border=\"1\" class=\"dataframe\">\n",
       "  <thead>\n",
       "    <tr style=\"text-align: right;\">\n",
       "      <th></th>\n",
       "      <th>id</th>\n",
       "      <th>pid</th>\n",
       "      <th>ms_subclass</th>\n",
       "      <th>lot_frontage</th>\n",
       "      <th>lot_area</th>\n",
       "      <th>overall_qual</th>\n",
       "      <th>overall_cond</th>\n",
       "      <th>year_built</th>\n",
       "      <th>year_remod_add</th>\n",
       "      <th>mas_vnr_area</th>\n",
       "      <th>...</th>\n",
       "      <th>wood_deck_sf</th>\n",
       "      <th>open_porch_sf</th>\n",
       "      <th>enclosed_porch</th>\n",
       "      <th>3ssn_porch</th>\n",
       "      <th>screen_porch</th>\n",
       "      <th>pool_area</th>\n",
       "      <th>misc_val</th>\n",
       "      <th>mo_sold</th>\n",
       "      <th>yr_sold</th>\n",
       "      <th>saleprice</th>\n",
       "    </tr>\n",
       "  </thead>\n",
       "  <tbody>\n",
       "    <tr>\n",
       "      <th>count</th>\n",
       "      <td>2051.000000</td>\n",
       "      <td>2.051000e+03</td>\n",
       "      <td>2051.000000</td>\n",
       "      <td>1721.000000</td>\n",
       "      <td>2051.000000</td>\n",
       "      <td>2051.000000</td>\n",
       "      <td>2051.000000</td>\n",
       "      <td>2051.000000</td>\n",
       "      <td>2051.000000</td>\n",
       "      <td>2029.000000</td>\n",
       "      <td>...</td>\n",
       "      <td>2051.000000</td>\n",
       "      <td>2051.000000</td>\n",
       "      <td>2051.000000</td>\n",
       "      <td>2051.000000</td>\n",
       "      <td>2051.000000</td>\n",
       "      <td>2051.000000</td>\n",
       "      <td>2051.000000</td>\n",
       "      <td>2051.000000</td>\n",
       "      <td>2051.000000</td>\n",
       "      <td>2051.000000</td>\n",
       "    </tr>\n",
       "    <tr>\n",
       "      <th>mean</th>\n",
       "      <td>1474.033642</td>\n",
       "      <td>7.135900e+08</td>\n",
       "      <td>57.008776</td>\n",
       "      <td>69.055200</td>\n",
       "      <td>10065.208191</td>\n",
       "      <td>6.112140</td>\n",
       "      <td>5.562165</td>\n",
       "      <td>1971.708922</td>\n",
       "      <td>1984.190151</td>\n",
       "      <td>99.695909</td>\n",
       "      <td>...</td>\n",
       "      <td>93.833740</td>\n",
       "      <td>47.556802</td>\n",
       "      <td>22.571916</td>\n",
       "      <td>2.591419</td>\n",
       "      <td>16.511458</td>\n",
       "      <td>2.397855</td>\n",
       "      <td>51.574354</td>\n",
       "      <td>6.219893</td>\n",
       "      <td>2007.775719</td>\n",
       "      <td>181469.701609</td>\n",
       "    </tr>\n",
       "    <tr>\n",
       "      <th>std</th>\n",
       "      <td>843.980841</td>\n",
       "      <td>1.886918e+08</td>\n",
       "      <td>42.824223</td>\n",
       "      <td>23.260653</td>\n",
       "      <td>6742.488909</td>\n",
       "      <td>1.426271</td>\n",
       "      <td>1.104497</td>\n",
       "      <td>30.177889</td>\n",
       "      <td>21.036250</td>\n",
       "      <td>174.963129</td>\n",
       "      <td>...</td>\n",
       "      <td>128.549416</td>\n",
       "      <td>66.747241</td>\n",
       "      <td>59.845110</td>\n",
       "      <td>25.229615</td>\n",
       "      <td>57.374204</td>\n",
       "      <td>37.782570</td>\n",
       "      <td>573.393985</td>\n",
       "      <td>2.744736</td>\n",
       "      <td>1.312014</td>\n",
       "      <td>79258.659352</td>\n",
       "    </tr>\n",
       "    <tr>\n",
       "      <th>min</th>\n",
       "      <td>1.000000</td>\n",
       "      <td>5.263011e+08</td>\n",
       "      <td>20.000000</td>\n",
       "      <td>21.000000</td>\n",
       "      <td>1300.000000</td>\n",
       "      <td>1.000000</td>\n",
       "      <td>1.000000</td>\n",
       "      <td>1872.000000</td>\n",
       "      <td>1950.000000</td>\n",
       "      <td>0.000000</td>\n",
       "      <td>...</td>\n",
       "      <td>0.000000</td>\n",
       "      <td>0.000000</td>\n",
       "      <td>0.000000</td>\n",
       "      <td>0.000000</td>\n",
       "      <td>0.000000</td>\n",
       "      <td>0.000000</td>\n",
       "      <td>0.000000</td>\n",
       "      <td>1.000000</td>\n",
       "      <td>2006.000000</td>\n",
       "      <td>12789.000000</td>\n",
       "    </tr>\n",
       "    <tr>\n",
       "      <th>25%</th>\n",
       "      <td>753.500000</td>\n",
       "      <td>5.284581e+08</td>\n",
       "      <td>20.000000</td>\n",
       "      <td>58.000000</td>\n",
       "      <td>7500.000000</td>\n",
       "      <td>5.000000</td>\n",
       "      <td>5.000000</td>\n",
       "      <td>1953.500000</td>\n",
       "      <td>1964.500000</td>\n",
       "      <td>0.000000</td>\n",
       "      <td>...</td>\n",
       "      <td>0.000000</td>\n",
       "      <td>0.000000</td>\n",
       "      <td>0.000000</td>\n",
       "      <td>0.000000</td>\n",
       "      <td>0.000000</td>\n",
       "      <td>0.000000</td>\n",
       "      <td>0.000000</td>\n",
       "      <td>4.000000</td>\n",
       "      <td>2007.000000</td>\n",
       "      <td>129825.000000</td>\n",
       "    </tr>\n",
       "    <tr>\n",
       "      <th>50%</th>\n",
       "      <td>1486.000000</td>\n",
       "      <td>5.354532e+08</td>\n",
       "      <td>50.000000</td>\n",
       "      <td>68.000000</td>\n",
       "      <td>9430.000000</td>\n",
       "      <td>6.000000</td>\n",
       "      <td>5.000000</td>\n",
       "      <td>1974.000000</td>\n",
       "      <td>1993.000000</td>\n",
       "      <td>0.000000</td>\n",
       "      <td>...</td>\n",
       "      <td>0.000000</td>\n",
       "      <td>27.000000</td>\n",
       "      <td>0.000000</td>\n",
       "      <td>0.000000</td>\n",
       "      <td>0.000000</td>\n",
       "      <td>0.000000</td>\n",
       "      <td>0.000000</td>\n",
       "      <td>6.000000</td>\n",
       "      <td>2008.000000</td>\n",
       "      <td>162500.000000</td>\n",
       "    </tr>\n",
       "    <tr>\n",
       "      <th>75%</th>\n",
       "      <td>2198.000000</td>\n",
       "      <td>9.071801e+08</td>\n",
       "      <td>70.000000</td>\n",
       "      <td>80.000000</td>\n",
       "      <td>11513.500000</td>\n",
       "      <td>7.000000</td>\n",
       "      <td>6.000000</td>\n",
       "      <td>2001.000000</td>\n",
       "      <td>2004.000000</td>\n",
       "      <td>161.000000</td>\n",
       "      <td>...</td>\n",
       "      <td>168.000000</td>\n",
       "      <td>70.000000</td>\n",
       "      <td>0.000000</td>\n",
       "      <td>0.000000</td>\n",
       "      <td>0.000000</td>\n",
       "      <td>0.000000</td>\n",
       "      <td>0.000000</td>\n",
       "      <td>8.000000</td>\n",
       "      <td>2009.000000</td>\n",
       "      <td>214000.000000</td>\n",
       "    </tr>\n",
       "    <tr>\n",
       "      <th>max</th>\n",
       "      <td>2930.000000</td>\n",
       "      <td>9.241520e+08</td>\n",
       "      <td>190.000000</td>\n",
       "      <td>313.000000</td>\n",
       "      <td>159000.000000</td>\n",
       "      <td>10.000000</td>\n",
       "      <td>9.000000</td>\n",
       "      <td>2010.000000</td>\n",
       "      <td>2010.000000</td>\n",
       "      <td>1600.000000</td>\n",
       "      <td>...</td>\n",
       "      <td>1424.000000</td>\n",
       "      <td>547.000000</td>\n",
       "      <td>432.000000</td>\n",
       "      <td>508.000000</td>\n",
       "      <td>490.000000</td>\n",
       "      <td>800.000000</td>\n",
       "      <td>17000.000000</td>\n",
       "      <td>12.000000</td>\n",
       "      <td>2010.000000</td>\n",
       "      <td>611657.000000</td>\n",
       "    </tr>\n",
       "  </tbody>\n",
       "</table>\n",
       "<p>8 rows × 39 columns</p>\n",
       "</div>"
      ],
      "text/plain": [
       "                id           pid  ms_subclass  lot_frontage       lot_area  \\\n",
       "count  2051.000000  2.051000e+03  2051.000000   1721.000000    2051.000000   \n",
       "mean   1474.033642  7.135900e+08    57.008776     69.055200   10065.208191   \n",
       "std     843.980841  1.886918e+08    42.824223     23.260653    6742.488909   \n",
       "min       1.000000  5.263011e+08    20.000000     21.000000    1300.000000   \n",
       "25%     753.500000  5.284581e+08    20.000000     58.000000    7500.000000   \n",
       "50%    1486.000000  5.354532e+08    50.000000     68.000000    9430.000000   \n",
       "75%    2198.000000  9.071801e+08    70.000000     80.000000   11513.500000   \n",
       "max    2930.000000  9.241520e+08   190.000000    313.000000  159000.000000   \n",
       "\n",
       "       overall_qual  overall_cond   year_built  year_remod_add  mas_vnr_area  \\\n",
       "count   2051.000000   2051.000000  2051.000000     2051.000000   2029.000000   \n",
       "mean       6.112140      5.562165  1971.708922     1984.190151     99.695909   \n",
       "std        1.426271      1.104497    30.177889       21.036250    174.963129   \n",
       "min        1.000000      1.000000  1872.000000     1950.000000      0.000000   \n",
       "25%        5.000000      5.000000  1953.500000     1964.500000      0.000000   \n",
       "50%        6.000000      5.000000  1974.000000     1993.000000      0.000000   \n",
       "75%        7.000000      6.000000  2001.000000     2004.000000    161.000000   \n",
       "max       10.000000      9.000000  2010.000000     2010.000000   1600.000000   \n",
       "\n",
       "       ...  wood_deck_sf  open_porch_sf  enclosed_porch   3ssn_porch  \\\n",
       "count  ...   2051.000000    2051.000000     2051.000000  2051.000000   \n",
       "mean   ...     93.833740      47.556802       22.571916     2.591419   \n",
       "std    ...    128.549416      66.747241       59.845110    25.229615   \n",
       "min    ...      0.000000       0.000000        0.000000     0.000000   \n",
       "25%    ...      0.000000       0.000000        0.000000     0.000000   \n",
       "50%    ...      0.000000      27.000000        0.000000     0.000000   \n",
       "75%    ...    168.000000      70.000000        0.000000     0.000000   \n",
       "max    ...   1424.000000     547.000000      432.000000   508.000000   \n",
       "\n",
       "       screen_porch    pool_area      misc_val      mo_sold      yr_sold  \\\n",
       "count   2051.000000  2051.000000   2051.000000  2051.000000  2051.000000   \n",
       "mean      16.511458     2.397855     51.574354     6.219893  2007.775719   \n",
       "std       57.374204    37.782570    573.393985     2.744736     1.312014   \n",
       "min        0.000000     0.000000      0.000000     1.000000  2006.000000   \n",
       "25%        0.000000     0.000000      0.000000     4.000000  2007.000000   \n",
       "50%        0.000000     0.000000      0.000000     6.000000  2008.000000   \n",
       "75%        0.000000     0.000000      0.000000     8.000000  2009.000000   \n",
       "max      490.000000   800.000000  17000.000000    12.000000  2010.000000   \n",
       "\n",
       "           saleprice  \n",
       "count    2051.000000  \n",
       "mean   181469.701609  \n",
       "std     79258.659352  \n",
       "min     12789.000000  \n",
       "25%    129825.000000  \n",
       "50%    162500.000000  \n",
       "75%    214000.000000  \n",
       "max    611657.000000  \n",
       "\n",
       "[8 rows x 39 columns]"
      ]
     },
     "execution_count": 16,
     "metadata": {},
     "output_type": "execute_result"
    }
   ],
   "source": [
    "houses.describe()"
   ]
  },
  {
   "cell_type": "code",
   "execution_count": null,
   "id": "68e7f8fb-e569-4727-b572-310811d79493",
   "metadata": {
    "scrolled": true,
    "tags": []
   },
   "outputs": [],
   "source": [
    "houses.isnull().sum().sort_values(ascending = False)[lambda x:x>0]"
   ]
  },
  {
   "cell_type": "markdown",
   "id": "f14f2e0d-a5de-46c2-81a1-433168a7bd5d",
   "metadata": {},
   "source": [
    "###### Column Dropping:"
   ]
  },
  {
   "cell_type": "markdown",
   "id": "cdf1a22f-7575-4f95-94a8-e6c6eefc4f1a",
   "metadata": {
    "tags": []
   },
   "source": [
    "Pool QC           2042\n",
    "Misc Feature      1986\n",
    "Alley             1911\n",
    "Fence             1651\n",
    "\n",
    "There don't seem to be many pools in Ames (9).  Likewise, only 65 houses have Miscelaneous Features (3.17%), so I believe it is reasonable to drop this feature.  Also, there are 1911 out of 2051 houses without an alley.  I'm going to remove this feature.  There are a significant number of fences (400), so I'll impute \"None\" for the NA values. It would be difficult to draw conclusions from columns 'Pool QC' and 'Pool Area', as there are only 9 houses with pools. \n",
    "\n",
    "Likewise for Misc Feature, Alley, and Fence, these do not strike me as frequent enough and/or important enough to include as a predictive feature.  I will drop all four columns.\n",
    "\n",
    "I'll drop PID because this feature is reduntant with ID for data identification purposes.  ID I will keep for maintining identification of the data.  "
   ]
  },
  {
   "cell_type": "code",
   "execution_count": 18,
   "id": "ef748a29-171e-4c74-8bd1-fac236c34b8f",
   "metadata": {
    "scrolled": true,
    "tags": []
   },
   "outputs": [],
   "source": [
    "dropped_columns = ['pid','misc_feature','misc_val','alley','pool_qc', 'pool_area']\n",
    "houses.drop(columns = dropped_columns, axis = 1, inplace = True)\n",
    "houses_id = houses.pop('id')"
   ]
  },
  {
   "cell_type": "code",
   "execution_count": 19,
   "id": "1299ee8d-a0da-4993-bce0-8a9d29750ed4",
   "metadata": {},
   "outputs": [],
   "source": [
    "houses_test.drop(columns = dropped_columns, axis = 1, inplace = True)\n",
    "houses_test_id = houses_test.pop('id')"
   ]
  },
  {
   "cell_type": "markdown",
   "id": "edac7afc-26fb-42ff-8feb-ca6dca508cc7",
   "metadata": {},
   "source": [
    "Changing the 'ms_subclass' feature to categorical."
   ]
  },
  {
   "cell_type": "code",
   "execution_count": 20,
   "id": "66b317df-9155-4ccc-aeed-155e82a6015c",
   "metadata": {},
   "outputs": [],
   "source": [
    "houses['ms_subclass'] = houses['ms_subclass'].astype('category')"
   ]
  },
  {
   "cell_type": "code",
   "execution_count": null,
   "id": "1cc9bb50-38f1-4267-ba86-0eb1a21c1db0",
   "metadata": {
    "tags": []
   },
   "outputs": [],
   "source": [
    "houses.columns"
   ]
  },
  {
   "cell_type": "markdown",
   "id": "86c382e3-2ca9-4c7a-9816-0b738fbe8790",
   "metadata": {},
   "source": [
    "I will also collect column names for ordinal encoding vs. One-Hot encoding.  "
   ]
  },
  {
   "cell_type": "code",
   "execution_count": 21,
   "id": "57d50322-1330-4923-b53c-22f1ddc7d2c5",
   "metadata": {},
   "outputs": [],
   "source": [
    "target = ['saleprice']   \n",
    " \n",
    "features_ord = ['lot_shape','utilities','land_slope','overall_qual',\\\n",
    "'overall_cond', 'exter_qual','exter_cond', 'bsmt_qual', 'bsmt_cond', \\\n",
    "'bsmt_exposure','bsmtfin_type_1','bsmtfin_type_2','heating_qc','electrical',\\\n",
    "'kitchen_qual', 'functional', 'fireplace_qu', 'garage_finish', 'garage_qual',\n",
    "'garage_cond', 'paved_drive', 'fence']\n",
    "\n",
    "features_nom = ['ms_subclass','ms_zoning','street','land_contour',\\\n",
    "'lot_config','neighborhood','condition_2','bldg_type','house_style', \\\n",
    "'roof_style', 'roof_matl','exterior_1st','exterior_2nd', 'mas_vnr_type',\\\n",
    "'foundation','heating','central_air', 'garage_type', 'misc_val', 'sale_type',]\n",
    "\n",
    "features_cont = ['lot_frontage','lot_area','mas_vnr_area','bsmtfin_sf_1',\\\n",
    "'bsmtfin_sf_2','bsmt_unf_sf', 'total_bsmt_sf','1st_flr_sf', '2nd_flr_sf', \\\n",
    "'low_qual_fin_sf','gr_liv_area', 'garage_area', 'wood_deck_sf', 'open_porch_sf',\\\n",
    "'enclosed_porch','3ssn_porch', 'screen_porch', ]\n",
    "\n",
    "features_disc = ['year_built', 'year_remod_add','bsmt_full_bath',\\\n",
    "'bsmt_half_bath', 'full_bath', 'half_bath','bedroom_abvgr', 'kitchen_abvgr',\\\n",
    "'totrms_abvgrd', 'fireplaces', 'garage_yr_blt', 'garage_cars', 'mo_sold', \\\n",
    "'yr_sold',]\n",
    "features_type = [features_ord,features_nom,features_cont,features_disc]\n",
    "features_all = features_ord + features_nom + features_cont + features_disc"
   ]
  },
  {
   "cell_type": "markdown",
   "id": "9e578f7f-73ed-402d-8b19-6beb148471fa",
   "metadata": {},
   "source": [
    "```To-do:``` I will make 'month_sold' a nominal variable:"
   ]
  },
  {
   "cell_type": "markdown",
   "id": "e08ddcd8-e18b-47b8-8aa6-51ed7ab054f9",
   "metadata": {},
   "source": [
    "```To-do:``` months = ['Jan','Feb','Mar','Apr','May','Jun','Jul','Aug','Sep','Oct','Nov', 'Dec']\n",
    "\n",
    "houses['month_sold'] = []\n"
   ]
  },
  {
   "cell_type": "markdown",
   "id": "be24ae1a-e947-4157-badc-b8dcfc4ba743",
   "metadata": {
    "tags": []
   },
   "source": [
    "For columns that have NA values, the data dictionary indicates that the feature does not exist for the observation, as opposed to indicating that there was not any record.  The columns with na values that indicate the feature is not present for a given observation include:\n",
    "\n",
    "Fence, FireplaceQu (and 'Fireplaces' ?), \n",
    "\n",
    "Garage Cond, Garage Qual, ('Garage Area' ?), Garage Cars, Garage Finish, Garage Yr Blt, Garage Type\n",
    "Note: there is one fewer Garage Type NAs than there are NA's for the other garage features.  I need to investigate further.\n",
    "\n",
    "Bsmt features are also asymetrically missing values, which needs to be investigated.  \n",
    "\n",
    "Mas Vnr does not rely on NA's but instead has 'None' as a value to indicate if a feature is missing.  Imputing with the mode may be the best option here.\n",
    "\n"
   ]
  },
  {
   "cell_type": "markdown",
   "id": "99824b23-b2f6-4de6-837e-2ed4560bdcbb",
   "metadata": {},
   "source": [
    "There are a significant number of fireplaces and Na values for Fireplace Qu indicate no fireplace, so I will replace the missing values with ```'None'``` ."
   ]
  },
  {
   "cell_type": "markdown",
   "id": "bf8b1134-9d83-488e-9981-97323a6d096e",
   "metadata": {},
   "source": [
    "Only 65 houses with misc features.  Shed is the most common of these with 56, but the median sale price is not much different (163,000.0 with no shed vs 153,750.0 with a shed)"
   ]
  },
  {
   "cell_type": "markdown",
   "id": "54c68e39-7966-40f8-b107-510dce531e61",
   "metadata": {
    "tags": []
   },
   "source": [
    "I believe that in accordance with the format for other columns, the missing values for lot frontage likely indicate that the lot has no frontage.  This assumption is supported by the observation that the minimum recorded frontage is greater than zero. I will impute zeros in place of the NAs."
   ]
  },
  {
   "cell_type": "code",
   "execution_count": null,
   "id": "0e1c2f98-4b42-4d23-99df-5dee5988de45",
   "metadata": {},
   "outputs": [],
   "source": [
    "houses.isna().sum().value_counts()"
   ]
  },
  {
   "cell_type": "code",
   "execution_count": null,
   "id": "5a738a8e-bc34-4809-9e86-7cbe869b6b85",
   "metadata": {},
   "outputs": [],
   "source": [
    "houses.dtypes"
   ]
  },
  {
   "cell_type": "code",
   "execution_count": null,
   "id": "1e300960-6b80-4668-b79b-6e8f73cf6fe4",
   "metadata": {},
   "outputs": [],
   "source": []
  },
  {
   "cell_type": "code",
   "execution_count": 23,
   "id": "28902b28-a220-4df1-be28-757f91bdf0d7",
   "metadata": {},
   "outputs": [
    {
     "data": {
      "text/html": [
       "<div>\n",
       "<style scoped>\n",
       "    .dataframe tbody tr th:only-of-type {\n",
       "        vertical-align: middle;\n",
       "    }\n",
       "\n",
       "    .dataframe tbody tr th {\n",
       "        vertical-align: top;\n",
       "    }\n",
       "\n",
       "    .dataframe thead th {\n",
       "        text-align: right;\n",
       "    }\n",
       "</style>\n",
       "<table border=\"1\" class=\"dataframe\">\n",
       "  <thead>\n",
       "    <tr style=\"text-align: right;\">\n",
       "      <th></th>\n",
       "      <th>ms_subclass</th>\n",
       "      <th>lot_frontage</th>\n",
       "      <th>lot_area</th>\n",
       "      <th>overall_qual</th>\n",
       "      <th>overall_cond</th>\n",
       "      <th>year_built</th>\n",
       "      <th>year_remod_add</th>\n",
       "      <th>mas_vnr_area</th>\n",
       "      <th>bsmtfin_sf_1</th>\n",
       "      <th>bsmtfin_sf_2</th>\n",
       "      <th>...</th>\n",
       "      <th>garage_cars</th>\n",
       "      <th>garage_area</th>\n",
       "      <th>wood_deck_sf</th>\n",
       "      <th>open_porch_sf</th>\n",
       "      <th>enclosed_porch</th>\n",
       "      <th>3ssn_porch</th>\n",
       "      <th>screen_porch</th>\n",
       "      <th>mo_sold</th>\n",
       "      <th>yr_sold</th>\n",
       "      <th>saleprice</th>\n",
       "    </tr>\n",
       "  </thead>\n",
       "  <tbody>\n",
       "    <tr>\n",
       "      <th>count</th>\n",
       "      <td>2051.000000</td>\n",
       "      <td>2051.000000</td>\n",
       "      <td>2051.000000</td>\n",
       "      <td>2051.000000</td>\n",
       "      <td>2051.000000</td>\n",
       "      <td>2051.000000</td>\n",
       "      <td>2051.000000</td>\n",
       "      <td>2051.000000</td>\n",
       "      <td>2051.000000</td>\n",
       "      <td>2051.000000</td>\n",
       "      <td>...</td>\n",
       "      <td>2051.000000</td>\n",
       "      <td>2051.000000</td>\n",
       "      <td>2051.000000</td>\n",
       "      <td>2051.000000</td>\n",
       "      <td>2051.000000</td>\n",
       "      <td>2051.000000</td>\n",
       "      <td>2051.000000</td>\n",
       "      <td>2051.000000</td>\n",
       "      <td>2051.000000</td>\n",
       "      <td>2051.000000</td>\n",
       "    </tr>\n",
       "    <tr>\n",
       "      <th>mean</th>\n",
       "      <td>57.008776</td>\n",
       "      <td>57.944417</td>\n",
       "      <td>10065.208191</td>\n",
       "      <td>6.112140</td>\n",
       "      <td>5.562165</td>\n",
       "      <td>1971.708922</td>\n",
       "      <td>1984.190151</td>\n",
       "      <td>98.626524</td>\n",
       "      <td>442.084837</td>\n",
       "      <td>47.935641</td>\n",
       "      <td>...</td>\n",
       "      <td>1.775719</td>\n",
       "      <td>473.440761</td>\n",
       "      <td>93.833740</td>\n",
       "      <td>47.556802</td>\n",
       "      <td>22.571916</td>\n",
       "      <td>2.591419</td>\n",
       "      <td>16.511458</td>\n",
       "      <td>6.219893</td>\n",
       "      <td>2007.775719</td>\n",
       "      <td>181469.701609</td>\n",
       "    </tr>\n",
       "    <tr>\n",
       "      <th>std</th>\n",
       "      <td>42.824223</td>\n",
       "      <td>33.137332</td>\n",
       "      <td>6742.488909</td>\n",
       "      <td>1.426271</td>\n",
       "      <td>1.104497</td>\n",
       "      <td>30.177889</td>\n",
       "      <td>21.036250</td>\n",
       "      <td>174.324690</td>\n",
       "      <td>461.195041</td>\n",
       "      <td>164.964052</td>\n",
       "      <td>...</td>\n",
       "      <td>0.765357</td>\n",
       "      <td>216.135102</td>\n",
       "      <td>128.549416</td>\n",
       "      <td>66.747241</td>\n",
       "      <td>59.845110</td>\n",
       "      <td>25.229615</td>\n",
       "      <td>57.374204</td>\n",
       "      <td>2.744736</td>\n",
       "      <td>1.312014</td>\n",
       "      <td>79258.659352</td>\n",
       "    </tr>\n",
       "    <tr>\n",
       "      <th>min</th>\n",
       "      <td>20.000000</td>\n",
       "      <td>0.000000</td>\n",
       "      <td>1300.000000</td>\n",
       "      <td>1.000000</td>\n",
       "      <td>1.000000</td>\n",
       "      <td>1872.000000</td>\n",
       "      <td>1950.000000</td>\n",
       "      <td>0.000000</td>\n",
       "      <td>0.000000</td>\n",
       "      <td>0.000000</td>\n",
       "      <td>...</td>\n",
       "      <td>0.000000</td>\n",
       "      <td>0.000000</td>\n",
       "      <td>0.000000</td>\n",
       "      <td>0.000000</td>\n",
       "      <td>0.000000</td>\n",
       "      <td>0.000000</td>\n",
       "      <td>0.000000</td>\n",
       "      <td>1.000000</td>\n",
       "      <td>2006.000000</td>\n",
       "      <td>12789.000000</td>\n",
       "    </tr>\n",
       "    <tr>\n",
       "      <th>25%</th>\n",
       "      <td>20.000000</td>\n",
       "      <td>43.500000</td>\n",
       "      <td>7500.000000</td>\n",
       "      <td>5.000000</td>\n",
       "      <td>5.000000</td>\n",
       "      <td>1953.500000</td>\n",
       "      <td>1964.500000</td>\n",
       "      <td>0.000000</td>\n",
       "      <td>0.000000</td>\n",
       "      <td>0.000000</td>\n",
       "      <td>...</td>\n",
       "      <td>1.000000</td>\n",
       "      <td>319.000000</td>\n",
       "      <td>0.000000</td>\n",
       "      <td>0.000000</td>\n",
       "      <td>0.000000</td>\n",
       "      <td>0.000000</td>\n",
       "      <td>0.000000</td>\n",
       "      <td>4.000000</td>\n",
       "      <td>2007.000000</td>\n",
       "      <td>129825.000000</td>\n",
       "    </tr>\n",
       "    <tr>\n",
       "      <th>50%</th>\n",
       "      <td>50.000000</td>\n",
       "      <td>63.000000</td>\n",
       "      <td>9430.000000</td>\n",
       "      <td>6.000000</td>\n",
       "      <td>5.000000</td>\n",
       "      <td>1974.000000</td>\n",
       "      <td>1993.000000</td>\n",
       "      <td>0.000000</td>\n",
       "      <td>368.000000</td>\n",
       "      <td>0.000000</td>\n",
       "      <td>...</td>\n",
       "      <td>2.000000</td>\n",
       "      <td>480.000000</td>\n",
       "      <td>0.000000</td>\n",
       "      <td>27.000000</td>\n",
       "      <td>0.000000</td>\n",
       "      <td>0.000000</td>\n",
       "      <td>0.000000</td>\n",
       "      <td>6.000000</td>\n",
       "      <td>2008.000000</td>\n",
       "      <td>162500.000000</td>\n",
       "    </tr>\n",
       "    <tr>\n",
       "      <th>75%</th>\n",
       "      <td>70.000000</td>\n",
       "      <td>78.000000</td>\n",
       "      <td>11513.500000</td>\n",
       "      <td>7.000000</td>\n",
       "      <td>6.000000</td>\n",
       "      <td>2001.000000</td>\n",
       "      <td>2004.000000</td>\n",
       "      <td>159.000000</td>\n",
       "      <td>733.500000</td>\n",
       "      <td>0.000000</td>\n",
       "      <td>...</td>\n",
       "      <td>2.000000</td>\n",
       "      <td>576.000000</td>\n",
       "      <td>168.000000</td>\n",
       "      <td>70.000000</td>\n",
       "      <td>0.000000</td>\n",
       "      <td>0.000000</td>\n",
       "      <td>0.000000</td>\n",
       "      <td>8.000000</td>\n",
       "      <td>2009.000000</td>\n",
       "      <td>214000.000000</td>\n",
       "    </tr>\n",
       "    <tr>\n",
       "      <th>max</th>\n",
       "      <td>190.000000</td>\n",
       "      <td>313.000000</td>\n",
       "      <td>159000.000000</td>\n",
       "      <td>10.000000</td>\n",
       "      <td>9.000000</td>\n",
       "      <td>2010.000000</td>\n",
       "      <td>2010.000000</td>\n",
       "      <td>1600.000000</td>\n",
       "      <td>5644.000000</td>\n",
       "      <td>1474.000000</td>\n",
       "      <td>...</td>\n",
       "      <td>5.000000</td>\n",
       "      <td>1418.000000</td>\n",
       "      <td>1424.000000</td>\n",
       "      <td>547.000000</td>\n",
       "      <td>432.000000</td>\n",
       "      <td>508.000000</td>\n",
       "      <td>490.000000</td>\n",
       "      <td>12.000000</td>\n",
       "      <td>2010.000000</td>\n",
       "      <td>611657.000000</td>\n",
       "    </tr>\n",
       "  </tbody>\n",
       "</table>\n",
       "<p>8 rows × 35 columns</p>\n",
       "</div>"
      ],
      "text/plain": [
       "       ms_subclass  lot_frontage       lot_area  overall_qual  overall_cond  \\\n",
       "count  2051.000000   2051.000000    2051.000000   2051.000000   2051.000000   \n",
       "mean     57.008776     57.944417   10065.208191      6.112140      5.562165   \n",
       "std      42.824223     33.137332    6742.488909      1.426271      1.104497   \n",
       "min      20.000000      0.000000    1300.000000      1.000000      1.000000   \n",
       "25%      20.000000     43.500000    7500.000000      5.000000      5.000000   \n",
       "50%      50.000000     63.000000    9430.000000      6.000000      5.000000   \n",
       "75%      70.000000     78.000000   11513.500000      7.000000      6.000000   \n",
       "max     190.000000    313.000000  159000.000000     10.000000      9.000000   \n",
       "\n",
       "        year_built  year_remod_add  mas_vnr_area  bsmtfin_sf_1  bsmtfin_sf_2  \\\n",
       "count  2051.000000     2051.000000   2051.000000   2051.000000   2051.000000   \n",
       "mean   1971.708922     1984.190151     98.626524    442.084837     47.935641   \n",
       "std      30.177889       21.036250    174.324690    461.195041    164.964052   \n",
       "min    1872.000000     1950.000000      0.000000      0.000000      0.000000   \n",
       "25%    1953.500000     1964.500000      0.000000      0.000000      0.000000   \n",
       "50%    1974.000000     1993.000000      0.000000    368.000000      0.000000   \n",
       "75%    2001.000000     2004.000000    159.000000    733.500000      0.000000   \n",
       "max    2010.000000     2010.000000   1600.000000   5644.000000   1474.000000   \n",
       "\n",
       "       ...  garage_cars  garage_area  wood_deck_sf  open_porch_sf  \\\n",
       "count  ...  2051.000000  2051.000000   2051.000000    2051.000000   \n",
       "mean   ...     1.775719   473.440761     93.833740      47.556802   \n",
       "std    ...     0.765357   216.135102    128.549416      66.747241   \n",
       "min    ...     0.000000     0.000000      0.000000       0.000000   \n",
       "25%    ...     1.000000   319.000000      0.000000       0.000000   \n",
       "50%    ...     2.000000   480.000000      0.000000      27.000000   \n",
       "75%    ...     2.000000   576.000000    168.000000      70.000000   \n",
       "max    ...     5.000000  1418.000000   1424.000000     547.000000   \n",
       "\n",
       "       enclosed_porch   3ssn_porch  screen_porch      mo_sold      yr_sold  \\\n",
       "count     2051.000000  2051.000000   2051.000000  2051.000000  2051.000000   \n",
       "mean        22.571916     2.591419     16.511458     6.219893  2007.775719   \n",
       "std         59.845110    25.229615     57.374204     2.744736     1.312014   \n",
       "min          0.000000     0.000000      0.000000     1.000000  2006.000000   \n",
       "25%          0.000000     0.000000      0.000000     4.000000  2007.000000   \n",
       "50%          0.000000     0.000000      0.000000     6.000000  2008.000000   \n",
       "75%          0.000000     0.000000      0.000000     8.000000  2009.000000   \n",
       "max        432.000000   508.000000    490.000000    12.000000  2010.000000   \n",
       "\n",
       "           saleprice  \n",
       "count    2051.000000  \n",
       "mean   181469.701609  \n",
       "std     79258.659352  \n",
       "min     12789.000000  \n",
       "25%    129825.000000  \n",
       "50%    162500.000000  \n",
       "75%    214000.000000  \n",
       "max    611657.000000  \n",
       "\n",
       "[8 rows x 35 columns]"
      ]
     },
     "execution_count": 23,
     "metadata": {},
     "output_type": "execute_result"
    }
   ],
   "source": [
    "#https://stackoverflow.com/questions/25039626/how-do-i-find-numeric-columns-in-\n",
    "#pandas\n",
    "#https://stackoverflow.com/questions/21271581/selecting-pandas-columns-by-dtype\n",
    "\n",
    "houses_numeric = houses.select_dtypes(exclude=[object])\n",
    "si = SimpleImputer(strategy = 'constant')\n",
    "\n",
    "houses_numeric = pd.DataFrame(si.fit_transform(houses_numeric),\\\n",
    "                              columns = houses_numeric.columns)\n",
    "\n",
    "houses_obj = houses.select_dtypes(include=[object])\n",
    "si = SimpleImputer(strategy = 'constant', fill_value='None')\n",
    "\n",
    "houses_obj_imputed = si.fit_transform(houses_obj)\n",
    "\n",
    "houses_obj = pd.DataFrame(houses_obj_imputed, columns = houses_obj.\\\n",
    "                              columns)\n",
    "houses_imp = houses_numeric.join(houses_obj)\n",
    "\n",
    "houses_imp.describe()\n",
    "\n",
    "#https://stackoverflow.com/questions/25039626/how-do-i-find-numeric-columns-in-\n",
    "#pandas\n",
    "#https://stackoverflow.com/questions/21271581/selecting-pandas-columns-by-dtype\n"
   ]
  },
  {
   "cell_type": "code",
   "execution_count": null,
   "id": "218f980e-abd7-40e7-8368-110a1969dba0",
   "metadata": {},
   "outputs": [],
   "source": [
    "# imputing test data\n",
    "houses_test_numeric = houses_test.select_dtypes(exclude=[object])\n",
    "si = SimpleImputer(strategy = 'constant')\n",
    "si.fit(houses_test_numeric)\n",
    "houses_test_numeric_imputed = si.transform(houses_test_numeric)\n",
    "houses_test_numeric = pd.DataFrame(houses_test_numeric_imputed, columns = houses_test_numeric.\\\n",
    "                              columns)\n",
    "\n",
    "houses_test_obj = houses_test.select_dtypes(include=[object])\n",
    "si = SimpleImputer(strategy = 'constant', fill_value='None')\n",
    "\n",
    "si.fit(houses_test_obj)\n",
    "houses_test_obj_imputed = si.transform(houses_test_obj)\n",
    "houses_test_obj = pd.DataFrame(houses_test_obj_imputed, columns = houses_test_obj.\\\n",
    "                              columns)\n",
    "houses_test_imp = houses_test_numeric.join(houses_test_obj)\n",
    "\n",
    "houses_test_imp.describe()"
   ]
  },
  {
   "cell_type": "code",
   "execution_count": 24,
   "id": "a1733598-49e8-4f73-98a1-d27e47589c85",
   "metadata": {},
   "outputs": [
    {
     "data": {
      "text/html": [
       "<div>\n",
       "<style scoped>\n",
       "    .dataframe tbody tr th:only-of-type {\n",
       "        vertical-align: middle;\n",
       "    }\n",
       "\n",
       "    .dataframe tbody tr th {\n",
       "        vertical-align: top;\n",
       "    }\n",
       "\n",
       "    .dataframe thead th {\n",
       "        text-align: right;\n",
       "    }\n",
       "</style>\n",
       "<table border=\"1\" class=\"dataframe\">\n",
       "  <thead>\n",
       "    <tr style=\"text-align: right;\">\n",
       "      <th></th>\n",
       "      <th>zero_counts</th>\n",
       "    </tr>\n",
       "  </thead>\n",
       "  <tbody>\n",
       "    <tr>\n",
       "      <th>3ssn_porch</th>\n",
       "      <td>2025</td>\n",
       "    </tr>\n",
       "    <tr>\n",
       "      <th>low_qual_fin_sf</th>\n",
       "      <td>2018</td>\n",
       "    </tr>\n",
       "    <tr>\n",
       "      <th>bsmt_half_bath</th>\n",
       "      <td>1925</td>\n",
       "    </tr>\n",
       "    <tr>\n",
       "      <th>screen_porch</th>\n",
       "      <td>1870</td>\n",
       "    </tr>\n",
       "    <tr>\n",
       "      <th>bsmtfin_sf_2</th>\n",
       "      <td>1804</td>\n",
       "    </tr>\n",
       "    <tr>\n",
       "      <th>enclosed_porch</th>\n",
       "      <td>1724</td>\n",
       "    </tr>\n",
       "    <tr>\n",
       "      <th>half_bath</th>\n",
       "      <td>1308</td>\n",
       "    </tr>\n",
       "    <tr>\n",
       "      <th>mas_vnr_area</th>\n",
       "      <td>1238</td>\n",
       "    </tr>\n",
       "    <tr>\n",
       "      <th>bsmt_full_bath</th>\n",
       "      <td>1202</td>\n",
       "    </tr>\n",
       "    <tr>\n",
       "      <th>2nd_flr_sf</th>\n",
       "      <td>1191</td>\n",
       "    </tr>\n",
       "    <tr>\n",
       "      <th>wood_deck_sf</th>\n",
       "      <td>1075</td>\n",
       "    </tr>\n",
       "    <tr>\n",
       "      <th>fireplaces</th>\n",
       "      <td>1000</td>\n",
       "    </tr>\n",
       "    <tr>\n",
       "      <th>open_porch_sf</th>\n",
       "      <td>912</td>\n",
       "    </tr>\n",
       "    <tr>\n",
       "      <th>bsmtfin_sf_1</th>\n",
       "      <td>658</td>\n",
       "    </tr>\n",
       "    <tr>\n",
       "      <th>lot_frontage</th>\n",
       "      <td>330</td>\n",
       "    </tr>\n",
       "    <tr>\n",
       "      <th>bsmt_unf_sf</th>\n",
       "      <td>166</td>\n",
       "    </tr>\n",
       "    <tr>\n",
       "      <th>garage_area</th>\n",
       "      <td>114</td>\n",
       "    </tr>\n",
       "    <tr>\n",
       "      <th>garage_cars</th>\n",
       "      <td>114</td>\n",
       "    </tr>\n",
       "    <tr>\n",
       "      <th>garage_yr_blt</th>\n",
       "      <td>114</td>\n",
       "    </tr>\n",
       "    <tr>\n",
       "      <th>total_bsmt_sf</th>\n",
       "      <td>55</td>\n",
       "    </tr>\n",
       "    <tr>\n",
       "      <th>full_bath</th>\n",
       "      <td>8</td>\n",
       "    </tr>\n",
       "    <tr>\n",
       "      <th>bedroom_abvgr</th>\n",
       "      <td>5</td>\n",
       "    </tr>\n",
       "    <tr>\n",
       "      <th>kitchen_abvgr</th>\n",
       "      <td>2</td>\n",
       "    </tr>\n",
       "  </tbody>\n",
       "</table>\n",
       "</div>"
      ],
      "text/plain": [
       "                 zero_counts\n",
       "3ssn_porch              2025\n",
       "low_qual_fin_sf         2018\n",
       "bsmt_half_bath          1925\n",
       "screen_porch            1870\n",
       "bsmtfin_sf_2            1804\n",
       "enclosed_porch          1724\n",
       "half_bath               1308\n",
       "mas_vnr_area            1238\n",
       "bsmt_full_bath          1202\n",
       "2nd_flr_sf              1191\n",
       "wood_deck_sf            1075\n",
       "fireplaces              1000\n",
       "open_porch_sf            912\n",
       "bsmtfin_sf_1             658\n",
       "lot_frontage             330\n",
       "bsmt_unf_sf              166\n",
       "garage_area              114\n",
       "garage_cars              114\n",
       "garage_yr_blt            114\n",
       "total_bsmt_sf             55\n",
       "full_bath                  8\n",
       "bedroom_abvgr              5\n",
       "kitchen_abvgr              2"
      ]
     },
     "execution_count": 24,
     "metadata": {},
     "output_type": "execute_result"
    }
   ],
   "source": [
    "def zero_counts(dataframe):\n",
    "    zero_counts_dict = {col:dataframe.loc[dataframe[col]==0,col].count() \\\n",
    "               for col in dataframe.columns}\n",
    "    zero_counts_df = pd.DataFrame.from_dict(data = zero_counts_dict, \\\n",
    "                                            orient = 'index',\\\n",
    "                                            columns = ['zero_counts'])\n",
    "    zero_counts_df_sorted = zero_counts_df.sort_values(by = 'zero_counts', \\\n",
    "                                                       ascending = False)\n",
    "    return zero_counts_df_sorted.loc[zero_counts_df_sorted['zero_counts']>0,:]\n",
    "\n",
    "zero_counts(houses_imp)\n"
   ]
  },
  {
   "cell_type": "code",
   "execution_count": null,
   "id": "1da94984-7d2c-4bd7-8a29-e99018af4a57",
   "metadata": {},
   "outputs": [],
   "source": [
    "# https://stackoverflow.com/questions/1007481/how-to-replace-whitespaces-with-\\\n",
    "# underscore\n",
    "# https://www.geeksforgeeks.org/python-convert-two-lists-into-a-dictionary/\n",
    "\n",
    "# rename_dict = dict(map(lambda i,j : (i,j) , houses_imp.columns,[col.replace(' ','_') for col in houses_imp.columns]))\n",
    "\n",
    "# houses_imp.columns"
   ]
  },
  {
   "cell_type": "code",
   "execution_count": null,
   "id": "e931c221-a7b3-4c29-8af8-fb7d6ab52dd5",
   "metadata": {},
   "outputs": [],
   "source": [
    "import numpy as np"
   ]
  },
  {
   "cell_type": "code",
   "execution_count": null,
   "id": "6ad27628-8bb7-4423-ab77-e905b70c4be1",
   "metadata": {},
   "outputs": [],
   "source": [
    "def ft_price_sd(df,features,target):\n",
    "    target_sd_by_feature =  {feat:np.std(df.groupby([feat])[target].mean().values)\\\n",
    "            for feat in features}\n",
    "    return pd.DataFrame.from_dict(target_sd_by_feature, orient='index', columns\\\n",
    "            = ['target_sd']).sort_values(by = 'target_sd', ascending = False)\n",
    "\n",
    "cat_price_sd = ft_price_sd(houses_imp, houses_obj.columns, 'saleprice')\n"
   ]
  },
  {
   "cell_type": "code",
   "execution_count": null,
   "id": "a22102eb-36e6-4aae-93b2-2c8a65252481",
   "metadata": {
    "tags": []
   },
   "outputs": [],
   "source": [
    "# cat_price_sd"
   ]
  },
  {
   "cell_type": "markdown",
   "id": "544aa95c-60fa-4090-a24b-0976d1f5f5f6",
   "metadata": {},
   "source": [
    "[plotting ref1](https://stackoverflow.com/questions/31594549/how-to-change-the-figure-size-of-a-seaborn-axes-or-figure-level-plot)\n",
    "[plotting ref2](https://www.reddit.com/r/learnpython/comments/3cjnpg/seaborn_xaxis_as_index/)"
   ]
  },
  {
   "cell_type": "code",
   "execution_count": null,
   "id": "1202a010-9cad-4d26-b98f-2d1e4d2ec03f",
   "metadata": {},
   "outputs": [],
   "source": [
    "sns.set(rc={'figure.figsize':(11.7,8.27)})\n",
    "\n",
    "p1 = sns.barplot(data = cat_price_sd.reset_index(), x = 'target_sd', y = 'index', \\\n",
    "            color = 'lightblue')\n",
    "p1.set(title = 'Standard Deviation of Price for Categorical Variables')\n",
    "p1.set(ylabel = 'Categorical Feature', xlabel = 'Price Standard Deviation')\n"
   ]
  },
  {
   "cell_type": "markdown",
   "id": "e469588c-a7fc-43ca-b388-4485c7170e0f",
   "metadata": {},
   "source": [
    "[savefig](https://matplotlib.org/stable/api/_as_gen/matplotlib.pyplot.savefig.html)"
   ]
  },
  {
   "cell_type": "code",
   "execution_count": null,
   "id": "1a890f3e-e804-4979-8eb4-b12354fd8dda",
   "metadata": {},
   "outputs": [],
   "source": [
    "picture1 = p1.get_figure()\n",
    "\n",
    "plt.savefig('sd_feat')"
   ]
  },
  {
   "cell_type": "code",
   "execution_count": null,
   "id": "d26c5d1f-5091-4e92-b94e-30ce1d9d9791",
   "metadata": {},
   "outputs": [],
   "source": []
  },
  {
   "cell_type": "code",
   "execution_count": 25,
   "id": "c715f89d-dde0-47e8-b1c1-6de33b7b853d",
   "metadata": {},
   "outputs": [
    {
     "data": {
      "text/plain": [
       "Norm      2025\n",
       "Feedr       11\n",
       "Artery       5\n",
       "PosA         3\n",
       "PosN         3\n",
       "RRNn         2\n",
       "RRAe         1\n",
       "RRAn         1\n",
       "Name: condition_2, dtype: int64"
      ]
     },
     "execution_count": 25,
     "metadata": {},
     "output_type": "execute_result"
    },
    {
     "data": {
      "image/png": "[encoded data removed]",
      "text/plain": [
       "<Figure size 432x288 with 1 Axes>"
      ]
     },
     "metadata": {
      "needs_background": "light"
     },
     "output_type": "display_data"
    }
   ],
   "source": [
    "houses_imp.groupby('condition_2').mean()['saleprice']\n",
    "\n",
    "houses_imp['condition_2'].hist().set(title='Condition 2', xlabel='Category', \\\n",
    "                                     ylabel = 'Counts',)\n",
    "houses_imp['condition_2'].value_counts()"
   ]
  },
  {
   "cell_type": "markdown",
   "id": "aa437db9-cb63-4629-84df-1709dd0620d2",
   "metadata": {},
   "source": [
    "Condition 2 (Nominal): Proximity to various conditions (if more than one is present)\n",
    "\t\t\n",
    "       Artery\tAdjacent to arterial street\n",
    "       Feedr\tAdjacent to feeder street\t\n",
    "       Norm\tNormal\t\n",
    "       RRNn\tWithin 200' of North-South Railroad\n",
    "       RRAn\tAdjacent to North-South Railroad\n",
    "       PosN\tNear positive off-site feature--park, greenbelt, etc.\n",
    "       PosA\tAdjacent to postive off-site feature\n",
    "       RRNe\tWithin 200' of East-West Railroad\n",
    "       RRAe\tAdjacent to East-West Railroad\n",
    "\t"
   ]
  },
  {
   "cell_type": "code",
   "execution_count": null,
   "id": "ea199b76-be4e-4e3b-945f-4a527f589d5f",
   "metadata": {},
   "outputs": [],
   "source": []
  },
  {
   "cell_type": "code",
   "execution_count": null,
   "id": "7fa7989d-c4d8-4dae-b775-7f204756ceb9",
   "metadata": {
    "tags": []
   },
   "outputs": [],
   "source": [
    "houses"
   ]
  },
  {
   "cell_type": "code",
   "execution_count": null,
   "id": "8bb8b402-f510-46db-9959-b6c9cefa0161",
   "metadata": {},
   "outputs": [],
   "source": []
  },
  {
   "cell_type": "code",
   "execution_count": 26,
   "id": "35cd4582-307c-4dc7-96d7-d24f6a5789ac",
   "metadata": {},
   "outputs": [],
   "source": [
    "X = houses_imp.drop(columns = ['saleprice'])\n",
    "y = houses_imp['saleprice']"
   ]
  },
  {
   "cell_type": "code",
   "execution_count": 28,
   "id": "2a3af28f-79ed-4a6e-95eb-c5a3296e5ee7",
   "metadata": {},
   "outputs": [],
   "source": [
    "X_train, X_val, y_train, y_val = train_test_split(\n",
    "    X,\n",
    "    y,\n",
    "    test_size = .25,\n",
    "    random_state = 3\n",
    ")"
   ]
  },
  {
   "cell_type": "code",
   "execution_count": null,
   "id": "e02a5285-107d-409c-b9f9-a3fc33a7a5fa",
   "metadata": {},
   "outputs": [],
   "source": []
  },
  {
   "cell_type": "code",
   "execution_count": 29,
   "id": "ec3e3f4c-ddab-43ea-af2e-1b09e5ede272",
   "metadata": {},
   "outputs": [],
   "source": [
    "ohe = OneHotEncoder(\n",
    "    drop = 'first',\n",
    "    handle_unknown = 'ignore',\n",
    "    sparse = False\n",
    ")"
   ]
  },
  {
   "cell_type": "code",
   "execution_count": null,
   "id": "d1ad9a82-b9f8-4afb-8e8f-eddb24968326",
   "metadata": {},
   "outputs": [],
   "source": []
  },
  {
   "cell_type": "code",
   "execution_count": 31,
   "id": "68d82355-192e-4db6-b925-33e773c3fcd9",
   "metadata": {
    "tags": []
   },
   "outputs": [],
   "source": [
    "ctx = ColumnTransformer(\n",
    "    transformers = [\n",
    "        #('alias_first', actual_transformer, list_of_cols_to_apply_to)\n",
    "        ('one_hot', ohe,\\\n",
    "         houses.select_dtypes(include = ['object']).columns)\n",
    "    ], remainder = 'passthrough', #don't drop the others\n",
    "    verbose_feature_names_out = False\n",
    ")"
   ]
  },
  {
   "cell_type": "code",
   "execution_count": 32,
   "id": "ecec8c7d-fbad-468d-b9c7-86c0afceaee7",
   "metadata": {},
   "outputs": [
    {
     "name": "stderr",
     "output_type": "stream",
     "text": [
      "/Users/william/opt/anaconda3/lib/python3.9/site-packages/sklearn/preprocessing/_encoders.py:188: UserWarning: Found unknown categories in columns [0, 4, 7, 9, 13, 20] during transform. These unknown categories will be encoded as all zeros\n",
      "  warnings.warn(\n"
     ]
    },
    {
     "data": {
      "text/plain": [
       "((1538, 242), (513, 242))"
      ]
     },
     "execution_count": 32,
     "metadata": {},
     "output_type": "execute_result"
    }
   ],
   "source": [
    "#transform train\n",
    "ctx.fit(X_train)\n",
    "X_train_enc = ctx.transform(X_train)\n",
    "\n",
    "#transform test\n",
    "X_val_enc = ctx.transform(X_val)\n",
    "\n",
    "#recreate dataframes\n",
    "X_train_enc = pd.DataFrame(X_train_enc, columns = ctx.get_feature_names_out())\n",
    "X_val_enc = pd.DataFrame(X_val_enc, columns = ctx.get_feature_names_out())\n",
    "\n",
    "X_train_enc.shape, X_val_enc.shape\n"
   ]
  },
  {
   "cell_type": "code",
   "execution_count": null,
   "id": "06e69f98-9d34-407e-86c6-5426b3a7ca98",
   "metadata": {},
   "outputs": [],
   "source": []
  },
  {
   "cell_type": "code",
   "execution_count": 33,
   "id": "3edecf86-e16a-49a0-baff-3b5fd640a98e",
   "metadata": {},
   "outputs": [],
   "source": [
    "ss = StandardScaler()\n",
    "Xs_train = ss.fit_transform(X_train_enc,)\n",
    "Xs_train = pd.DataFrame(Xs_train, columns = ss.get_feature_names_out())\n",
    "Xs_val = pd.DataFrame(ss.transform(X_val_enc), columns = ss.get_feature_names_out())"
   ]
  },
  {
   "cell_type": "markdown",
   "id": "3f2f1a4f-3a31-4e52-9661-0a5019bd7b21",
   "metadata": {
    "tags": []
   },
   "source": [
    "### Modeling"
   ]
  },
  {
   "cell_type": "markdown",
   "id": "f382bc02-8512-48ae-bac7-778b04646e66",
   "metadata": {},
   "source": [
    "The baseline model is given by an estimation of any house sale with the average sale price of previously seen house sales.\n",
    "\n",
    "This baseline model will provide a standard for further modeling efforts.\n",
    "\n",
    "The two statistics that will be used are RMSE, or root mean squared error, which represents the typical error in the prediction, and the R-squared statistic, which indicates the proportion of the variance in the target variable that is explained by the model."
   ]
  },
  {
   "cell_type": "code",
   "execution_count": 49,
   "id": "e647f89f-ca61-4c6f-9a50-68b6b3b4cc12",
   "metadata": {},
   "outputs": [
    {
     "data": {
      "text/plain": [
       "(79420.42, 79420.42)"
      ]
     },
     "execution_count": 49,
     "metadata": {},
     "output_type": "execute_result"
    }
   ],
   "source": [
    "pred_b = y_train.mean()\n",
    "\n",
    "round((sum((y_val - pred_b).pow(2))/len(y_val))**.5,2), \\\n",
    "mean_squared_error(y_val, [pred_b]*len(y_val), squared = False).round(2)"
   ]
  },
  {
   "cell_type": "markdown",
   "id": "221ea87c-14a7-4cc3-a0e6-c2dde0f5df8c",
   "metadata": {},
   "source": [
    "Above is the RMSE of the baseline model as shown by a self-made implementation as well as the sci-kit learn implementation."
   ]
  },
  {
   "cell_type": "code",
   "execution_count": 51,
   "id": "2c8d0080-b97d-43ab-a2c9-1f4d4fb42799",
   "metadata": {},
   "outputs": [
    {
     "data": {
      "text/plain": [
       "-0.0"
      ]
     },
     "execution_count": 51,
     "metadata": {},
     "output_type": "execute_result"
    }
   ],
   "source": [
    "r2_score(y_val, [pred_b]*len(y_val)).round(2)"
   ]
  },
  {
   "cell_type": "markdown",
   "id": "2aeb96c6-2ff9-416a-8396-72fe32e9a592",
   "metadata": {},
   "source": [
    "Above is the r2 score.  It is practically zero, which is to be expected for a baseline model and it indicates that no variance is explained by the model."
   ]
  },
  {
   "cell_type": "code",
   "execution_count": 54,
   "id": "0f281a16-5aba-4f89-82b4-4272a7c8956e",
   "metadata": {},
   "outputs": [
    {
     "data": {
      "text/plain": [
       "(0.9467169812025749, 0.6642536751014341)"
      ]
     },
     "execution_count": 54,
     "metadata": {},
     "output_type": "execute_result"
    }
   ],
   "source": [
    "lr = LinearRegression()\n",
    "lr.fit(Xs_train, y_train)\n",
    "lr.score(Xs_train, y_train), lr.score(Xs_val, y_val)"
   ]
  },
  {
   "cell_type": "markdown",
   "id": "05e2db60-d1bd-43c6-a454-1ccfac8aee34",
   "metadata": {},
   "source": [
    "The baseline linear regression model substantially overfits the data, as seen by\n",
    "the R-squared statistic, which represents the proportion of the variance\n",
    "in sale price that is explained by the model."
   ]
  },
  {
   "cell_type": "code",
   "execution_count": 43,
   "id": "b20dac97-8ac4-434d-b9ab-8575711af3b4",
   "metadata": {},
   "outputs": [
    {
     "data": {
      "text/plain": [
       "(18277.62518208306, 45998.59578909338)"
      ]
     },
     "execution_count": 43,
     "metadata": {},
     "output_type": "execute_result"
    }
   ],
   "source": [
    "linear_preds = lr.predict(Xs_val)\n",
    "\n",
    "mean_squared_error(y_train,lr.predict(Xs_train), squared = False),\\\n",
    "mean_squared_error(y_val, linear_preds, squared = False),"
   ]
  },
  {
   "cell_type": "code",
   "execution_count": 84,
   "id": "4e83fe0f-129e-404a-a513-36f0f3627d3b",
   "metadata": {},
   "outputs": [
    {
     "name": "stdout",
     "output_type": "stream",
     "text": [
      "R-squared:(0.9432781795939493, 0.7608167029848245) RMSE: (18858.208634349812, 38824.36527541219)\n"
     ]
    }
   ],
   "source": [
    "alphas = np.arange(.01,15,.1)\n",
    "rcv = RidgeCV(alphas = alphas)\n",
    "rcv.fit(Xs_train, y_train)\n",
    "print(f'R-squared:{rcv.score(Xs_train, y_train), rcv.score(Xs_val, y_val)} RMSE: {mean_squared_error(y_train,rcv.predict(Xs_train), squared = False), mean_squared_error(y_val,rcv.predict(Xs_val), squared = False)}')\n"
   ]
  },
  {
   "cell_type": "markdown",
   "id": "e97bd81c-0777-4961-879e-ded1344c9246",
   "metadata": {},
   "source": [
    "Again we see evidence of overfitting demonstrated here by the R-squared and RMSE scores.\n",
    "Lasso may lead to less overfitting and allow for better feature selection as well."
   ]
  },
  {
   "cell_type": "markdown",
   "id": "e0bcf1ed-37df-42c4-80b3-7f51c8779f55",
   "metadata": {},
   "source": [
    "[RMSE formula](https://stackoverflow.com/questions/17197492/is-there-a-library-function-for-root-mean-square-error-rmse-in-python)"
   ]
  },
  {
   "cell_type": "code",
   "execution_count": 100,
   "id": "7a0ed40f-e6c2-444e-a773-7bac506d9ce5",
   "metadata": {
    "collapsed": true,
    "jupyter": {
     "outputs_hidden": true
    },
    "tags": []
   },
   "outputs": [
    {
     "name": "stderr",
     "output_type": "stream",
     "text": [
      "/Users/william/opt/anaconda3/lib/python3.9/site-packages/sklearn/linear_model/_coordinate_descent.py:634: ConvergenceWarning: Objective did not converge. You might want to increase the number of iterations. Duality gap: 1473773338.3902588, tolerance: 769377038.104955\n",
      "  model = cd_fast.enet_coordinate_descent_gram(\n",
      "/Users/william/opt/anaconda3/lib/python3.9/site-packages/sklearn/linear_model/_coordinate_descent.py:634: ConvergenceWarning: Objective did not converge. You might want to increase the number of iterations. Duality gap: 3527904421.786804, tolerance: 769377038.104955\n",
      "  model = cd_fast.enet_coordinate_descent_gram(\n",
      "/Users/william/opt/anaconda3/lib/python3.9/site-packages/sklearn/linear_model/_coordinate_descent.py:634: ConvergenceWarning: Objective did not converge. You might want to increase the number of iterations. Duality gap: 191524899550.79794, tolerance: 769377038.104955\n",
      "  model = cd_fast.enet_coordinate_descent_gram(\n",
      "/Users/william/opt/anaconda3/lib/python3.9/site-packages/sklearn/linear_model/_coordinate_descent.py:634: ConvergenceWarning: Objective did not converge. You might want to increase the number of iterations. Duality gap: 1922444861.1575928, tolerance: 771699973.3454864\n",
      "  model = cd_fast.enet_coordinate_descent_gram(\n",
      "/Users/william/opt/anaconda3/lib/python3.9/site-packages/sklearn/linear_model/_coordinate_descent.py:634: ConvergenceWarning: Objective did not converge. You might want to increase the number of iterations. Duality gap: 215189931891.22885, tolerance: 771699973.3454864\n",
      "  model = cd_fast.enet_coordinate_descent_gram(\n",
      "/Users/william/opt/anaconda3/lib/python3.9/site-packages/sklearn/linear_model/_coordinate_descent.py:634: ConvergenceWarning: Objective did not converge. You might want to increase the number of iterations. Duality gap: 936584527.9873047, tolerance: 744418482.8410803\n",
      "  model = cd_fast.enet_coordinate_descent_gram(\n",
      "/Users/william/opt/anaconda3/lib/python3.9/site-packages/sklearn/linear_model/_coordinate_descent.py:634: ConvergenceWarning: Objective did not converge. You might want to increase the number of iterations. Duality gap: 2352996278.92749, tolerance: 744418482.8410803\n",
      "  model = cd_fast.enet_coordinate_descent_gram(\n",
      "/Users/william/opt/anaconda3/lib/python3.9/site-packages/sklearn/linear_model/_coordinate_descent.py:634: ConvergenceWarning: Objective did not converge. You might want to increase the number of iterations. Duality gap: 196129469215.16956, tolerance: 744418482.8410803\n",
      "  model = cd_fast.enet_coordinate_descent_gram(\n",
      "/Users/william/opt/anaconda3/lib/python3.9/site-packages/sklearn/linear_model/_coordinate_descent.py:634: ConvergenceWarning: Objective did not converge. You might want to increase the number of iterations. Duality gap: 1794220349.0306396, tolerance: 776558572.9150399\n",
      "  model = cd_fast.enet_coordinate_descent_gram(\n",
      "/Users/william/opt/anaconda3/lib/python3.9/site-packages/sklearn/linear_model/_coordinate_descent.py:634: ConvergenceWarning: Objective did not converge. You might want to increase the number of iterations. Duality gap: 3263600541.100708, tolerance: 776558572.9150399\n",
      "  model = cd_fast.enet_coordinate_descent_gram(\n",
      "/Users/william/opt/anaconda3/lib/python3.9/site-packages/sklearn/linear_model/_coordinate_descent.py:634: ConvergenceWarning: Objective did not converge. You might want to increase the number of iterations. Duality gap: 191413466845.99884, tolerance: 776558572.9150399\n",
      "  model = cd_fast.enet_coordinate_descent_gram(\n",
      "/Users/william/opt/anaconda3/lib/python3.9/site-packages/sklearn/linear_model/_coordinate_descent.py:634: ConvergenceWarning: Objective did not converge. You might want to increase the number of iterations. Duality gap: 3132059499.586426, tolerance: 793696376.4903884\n",
      "  model = cd_fast.enet_coordinate_descent_gram(\n",
      "/Users/william/opt/anaconda3/lib/python3.9/site-packages/sklearn/linear_model/_coordinate_descent.py:634: ConvergenceWarning: Objective did not converge. You might want to increase the number of iterations. Duality gap: 6434867387.82019, tolerance: 793696376.4903884\n",
      "  model = cd_fast.enet_coordinate_descent_gram(\n",
      "/Users/william/opt/anaconda3/lib/python3.9/site-packages/sklearn/linear_model/_coordinate_descent.py:634: ConvergenceWarning: Objective did not converge. You might want to increase the number of iterations. Duality gap: 180069000154.78552, tolerance: 793696376.4903884\n",
      "  model = cd_fast.enet_coordinate_descent_gram(\n"
     ]
    },
    {
     "data": {
      "text/plain": [
       "(0.9384585421814624, 0.7704579449478394)"
      ]
     },
     "execution_count": 100,
     "metadata": {},
     "output_type": "execute_result"
    }
   ],
   "source": [
    "lcv = LassoCV(alphas = np.arange(.001, 1000, 10))\n",
    "lcv.fit(Xs_train, y_train)\n",
    "lcv.score(Xs_train, y_train), lcv.score(Xs_val, y_val)"
   ]
  },
  {
   "cell_type": "code",
   "execution_count": 101,
   "id": "47e7ce17-3450-4a9b-9db6-7ecaf456a984",
   "metadata": {
    "tags": []
   },
   "outputs": [
    {
     "data": {
      "text/plain": [
       "(0.9384585421814624, 0.7704579449478394)"
      ]
     },
     "execution_count": 101,
     "metadata": {},
     "output_type": "execute_result"
    }
   ],
   "source": [
    "lcv.score(Xs_train, y_train), lcv.score(Xs_val, y_val)"
   ]
  },
  {
   "cell_type": "code",
   "execution_count": 102,
   "id": "a57cdc07-0cdf-433a-a340-bdae45027519",
   "metadata": {
    "tags": []
   },
   "outputs": [
    {
     "data": {
      "text/plain": [
       "270.001"
      ]
     },
     "execution_count": 102,
     "metadata": {},
     "output_type": "execute_result"
    }
   ],
   "source": [
    "lcv.alpha_"
   ]
  },
  {
   "cell_type": "code",
   "execution_count": null,
   "id": "d907c711-ec74-44d4-ad7b-ba085bb4b8fc",
   "metadata": {},
   "outputs": [],
   "source": []
  },
  {
   "cell_type": "code",
   "execution_count": 103,
   "id": "cafc7f5b-71a0-4797-9b40-87540797ac0d",
   "metadata": {},
   "outputs": [
    {
     "data": {
      "text/plain": [
       "(18858.208634349812, 38824.36527541219)"
      ]
     },
     "execution_count": 103,
     "metadata": {},
     "output_type": "execute_result"
    }
   ],
   "source": [
    "mean_squared_error(y_train,rcv.predict(Xs_train), squared = False), mean_squared_error(y_val,rcv.predict(Xs_val), squared = False)"
   ]
  },
  {
   "cell_type": "markdown",
   "id": "a5d30622-9c8a-410c-b6da-268e9396132b",
   "metadata": {},
   "source": [
    "Unfortunately, there little difference between the lasso and ridge in terms of the r2 score and the rmse.  "
   ]
  },
  {
   "cell_type": "code",
   "execution_count": null,
   "id": "2525008d-cda9-4548-bec1-32adc33a9f95",
   "metadata": {},
   "outputs": [],
   "source": []
  },
  {
   "cell_type": "markdown",
   "id": "e8f0d4d2-67e6-4f03-a8b5-ff4bb4db5ccb",
   "metadata": {
    "tags": []
   },
   "source": [
    "Baseline Model will predict the y validation based on the average of the y train."
   ]
  },
  {
   "cell_type": "code",
   "execution_count": null,
   "id": "eb904499-2463-4931-b55e-d84391f243b9",
   "metadata": {},
   "outputs": [],
   "source": []
  },
  {
   "cell_type": "markdown",
   "id": "f07c8cc2-315d-44fc-9857-701e813c6abc",
   "metadata": {},
   "source": [
    "The baseline rmse for the validation set is $79,420.42"
   ]
  },
  {
   "cell_type": "code",
   "execution_count": null,
   "id": "b68b5e93-63a9-40e2-8301-afd049f9b757",
   "metadata": {},
   "outputs": [],
   "source": []
  },
  {
   "cell_type": "code",
   "execution_count": null,
   "id": "6a990e6e",
   "metadata": {},
   "outputs": [],
   "source": [
    "lr = LinearRegression()\n",
    "lr.fit(Xs_train, y_train)\n",
    "lr.score(Xs_train, y_train), lr.score(Xs_val, y_val)"
   ]
  },
  {
   "cell_type": "code",
   "execution_count": null,
   "id": "c8299a53-81ae-4b09-9f81-bac6cb95f7cd",
   "metadata": {},
   "outputs": [],
   "source": [
    "from sklearn.metrics import mean_squared_error\n",
    "mean_squared_error(y_val,lr.predict(Xs_train), squared = False)"
   ]
  },
  {
   "cell_type": "code",
   "execution_count": 108,
   "id": "90cbae04-39df-42f3-8003-1fa3363fbd32",
   "metadata": {},
   "outputs": [],
   "source": [
    "en = ElasticNetCV(l1_ratio=np.arange(.01,1,.01))\n"
   ]
  },
  {
   "cell_type": "code",
   "execution_count": 109,
   "id": "33e8bd80-f099-45e8-8e61-5754052d9457",
   "metadata": {
    "tags": []
   },
   "outputs": [],
   "source": [
    "en.fit(Xs_train, y_train)\n",
    "en.score(Xs_val,y_val)\n",
    "best_alpha, best_l1_ratio = en.alpha_, en.l1_ratio_"
   ]
  },
  {
   "cell_type": "code",
   "execution_count": 110,
   "id": "ba429e4f-2f69-4366-9d7b-5ff3ecd13d13",
   "metadata": {},
   "outputs": [
    {
     "data": {
      "text/plain": [
       "(64.43575137533763, 0.99, 0.8459152684101263, 0.8960003279913095)"
      ]
     },
     "execution_count": 110,
     "metadata": {},
     "output_type": "execute_result"
    }
   ],
   "source": [
    "best_alpha, best_l1_ratio, en.score(Xs_val,y_val), en.score(Xs_train,y_train)"
   ]
  },
  {
   "cell_type": "markdown",
   "id": "9bf4d61c-4824-4f05-9587-d6283efab806",
   "metadata": {},
   "source": [
    "After adjusting the l1_ratio for ElasticNet, the best l1 ratio approaches 1 indicating that the lasso is the best model.  However, the elasticnet implementation is generating a better score than seen previously with the lasso, so I will proceed with the elastic net for examination of the coefficients.  "
   ]
  },
  {
   "cell_type": "markdown",
   "id": "748db1f1-a781-4c9d-a326-4508116eb64c",
   "metadata": {},
   "source": [
    "[coeficient plot source](https://scikit-learn.org/stable/auto_examples/inspection/plot_linear_model_coefficient_interpretation.html)"
   ]
  },
  {
   "cell_type": "code",
   "execution_count": 138,
   "id": "a1532103-3b51-4a46-aa31-98a542779c69",
   "metadata": {},
   "outputs": [
    {
     "data": {
      "image/png": "[encoded data removed]",
      "text/plain": [
       "<Figure size 648x504 with 1 Axes>"
      ]
     },
     "metadata": {
      "needs_background": "light"
     },
     "output_type": "display_data"
    }
   ],
   "source": [
    "coefs = pd.DataFrame.from_dict({f_name: [coef,abs(coef)] for f_name, coef in \n",
    " zip(en.feature_names_in_,en.coef_)},orient = 'index', columns = ['coef', 'abs_coef'])\\\n",
    ".sort_values('abs_coef', ascending = False).iloc[0:30,'coef']\n",
    "coefs_sorted = pd.DataFrame(coefsb['coef'])\n",
    "coefs_sorted\n",
    "coefs_sorted.plot.barh(figsize=(9, 7))\n",
    "plt.title(\"Elastic Net model normalized variables coeficients\")\n",
    "plt.xlabel(\"Raw coefficient values\")\n",
    "plt.axvline(x=0, color=\".5\")\n",
    "plt.subplots_adjust(left=0.3)"
   ]
  },
  {
   "cell_type": "markdown",
   "id": "934f228d-b2fc-4475-8603-c71e5b1f4255",
   "metadata": {},
   "source": [
    "I ran the three models as well as the elastic net.  curiously, elastic net with an l1 ration of almost one significantly outperforms on the validation lasso, while lasso and ridge perform equivalently.  \n",
    "\n",
    "What I’m not sure of is how to interpret the raw coefficients, post standard scaling.  I guess I could talk about the change in price with a change in z-score of the variable, but it feels less clumsy to  divide the coefs by the sd of the feature.  not sure how to go about that.  Also, I had included the categorical variables in the standard scaling process, so these coefficients are not as interpretable as they could be."
   ]
  },
  {
   "cell_type": "code",
   "execution_count": null,
   "id": "37feb339-836f-4163-a312-bb03f4d2dd4c",
   "metadata": {},
   "outputs": [],
   "source": []
  },
  {
   "cell_type": "code",
   "execution_count": null,
   "id": "06326333-8243-4886-9d35-c6f7a1f4cf0f",
   "metadata": {},
   "outputs": [],
   "source": [
    "en.score(Xs_train, y_train), en.score(Xs_val, y_val)"
   ]
  },
  {
   "cell_type": "code",
   "execution_count": null,
   "id": "3cbfdc02-1b1f-4ffb-ac1d-16689d5d96f6",
   "metadata": {},
   "outputs": [],
   "source": [
    "best_alpha "
   ]
  },
  {
   "cell_type": "code",
   "execution_count": null,
   "id": "63c7f001-a912-4490-bc12-227d434474fe",
   "metadata": {},
   "outputs": [],
   "source": [
    "en.fit(pd.concat([Xs_train,Xs_val]),pd.concat([y_train,y_val]))\n",
    "en.alpha_"
   ]
  },
  {
   "cell_type": "code",
   "execution_count": null,
   "id": "d0045be6-73b5-4f81-ad90-19c4d5aa71a2",
   "metadata": {},
   "outputs": [],
   "source": [
    "en.alpha_, en.l1_ratio_"
   ]
  },
  {
   "cell_type": "code",
   "execution_count": null,
   "id": "6c8781ea-df03-4c13-abcf-4ac68f67bbb5",
   "metadata": {},
   "outputs": [],
   "source": [
    "{feature: coef for coef, feature in zip(en.coef_,en.feature_names_in_)}"
   ]
  },
  {
   "cell_type": "code",
   "execution_count": null,
   "id": "9d3ca284-e1ff-4e01-9a94-356b8a676a8d",
   "metadata": {},
   "outputs": [],
   "source": [
    "houses_test_imp_enc = ctx.transform(houses_test_imp)\n",
    "houses_test_imp_enc_ss = pd.DataFrame(ss.transform(houses_test_imp_enc), columns = ss.get_feature_names_out())"
   ]
  },
  {
   "cell_type": "code",
   "execution_count": null,
   "id": "13fcee1d-1229-4e75-9010-e540bd8e4501",
   "metadata": {},
   "outputs": [],
   "source": [
    "en.alpha_\n",
    "\n",
    "en_preds2 = en.predict(houses_test_imp_enc_ss)\n",
    "\n",
    "en_preds2 = pd.DataFrame(en_preds2,columns = ['SalePrice'])\n",
    "\n",
    "en_preds2.insert(loc = 0, column= 'Id', value = houses_test_id)\n",
    "\n",
    "en_preds2.to_csv('./en_2_simple.csv', index = False)"
   ]
  },
  {
   "cell_type": "code",
   "execution_count": null,
   "id": "cc077149-607e-4865-9d7c-576a1ec5b3f0",
   "metadata": {},
   "outputs": [],
   "source": [
    "en"
   ]
  }
 ],
 "metadata": {
  "kernelspec": {
   "display_name": "Python 3 (ipykernel)",
   "language": "python",
   "name": "python3"
  },
  "language_info": {
   "codemirror_mode": {
    "name": "ipython",
    "version": 3
   },
   "file_extension": ".py",
   "mimetype": "text/x-python",
   "name": "python",
   "nbconvert_exporter": "python",
   "pygments_lexer": "ipython3",
   "version": "3.9.7"
  }
 },
 "nbformat": 4,
 "nbformat_minor": 5
}
