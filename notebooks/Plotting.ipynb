{
 "cells": [
  {
   "cell_type": "code",
   "execution_count": null,
   "id": "cf72b3ff-7eb4-47dd-9de5-cfe5da2f1f89",
   "metadata": {},
   "outputs": [],
   "source": []
  },
  {
   "cell_type": "code",
   "execution_count": null,
   "id": "fb147947-4a17-4a4c-bbd8-dfcdeffb83d2",
   "metadata": {
    "tags": []
   },
   "outputs": [],
   "source": [
    "houses.groupby('mo_sold').mean()['saleprice']"
   ]
  },
  {
   "cell_type": "code",
   "execution_count": null,
   "id": "5da5ccda-92ed-4c07-af57-82da69b03006",
   "metadata": {
    "scrolled": true,
    "tags": []
   },
   "outputs": [],
   "source": [
    "pd.set_option('display.max_rows', None)\n",
    "houses.dtypes"
   ]
  },
  {
   "cell_type": "code",
   "execution_count": null,
   "id": "179bdf51-d0fb-4e1d-98bd-c2abf9c5537a",
   "metadata": {},
   "outputs": [],
   "source": [
    "sns.displot(houses['lot_area'])"
   ]
  },
  {
   "cell_type": "code",
   "execution_count": null,
   "id": "ed9ec834-d97a-457b-9f98-22f64a3c61ec",
   "metadata": {
    "tags": []
   },
   "outputs": [],
   "source": [
    "houses['lot_area'].quantile(np.arange(0,100,5)/100)"
   ]
  },
  {
   "cell_type": "code",
   "execution_count": null,
   "id": "be2ae023-b5ea-4a6e-a88f-8f4dc1b0c3d0",
   "metadata": {
    "tags": []
   },
   "outputs": [],
   "source": [
    "houses.corr()['saleprice']"
   ]
  },
  {
   "cell_type": "code",
   "execution_count": null,
   "id": "e5da2f1b-a091-4a34-a0cf-fa4347808732",
   "metadata": {},
   "outputs": [],
   "source": [
    "sns.heatmap(houses.corr())"
   ]
  },
  {
   "cell_type": "code",
   "execution_count": null,
   "id": "50ecaed4-1488-44fe-8121-2ade6dbb9046",
   "metadata": {},
   "outputs": [],
   "source": [
    "sns.scatterplot(x = houses[\"1st_flr_sf\"], y = np.log(houses['saleprice']))"
   ]
  },
  {
   "cell_type": "code",
   "execution_count": null,
   "id": "92f84822-dda7-4a55-b912-59513b533251",
   "metadata": {},
   "outputs": [],
   "source": [
    "def create_scatterplots(df, target, target_name):\n",
    "    for col in df.columns:\n",
    "        p = sns.scatterplot(x = houses[col], y = target)\n",
    "        p.set(title = f'{target} by {col}')\n",
    "        plt.savefig(f'../plots/scatterplots/{target_name}_{col}.png')"
   ]
  },
  {
   "cell_type": "code",
   "execution_count": null,
   "id": "0afdc4ae-67be-4c32-905d-e7ce4dbf8701",
   "metadata": {
    "tags": []
   },
   "outputs": [],
   "source": [
    "pd.set_option(disp.max_rows = False)\n",
    "cont_ftrs = houses.select_dtypes(exclude = [object])\n",
    "cont_ftrs\n"
   ]
  },
  {
   "cell_type": "code",
   "execution_count": null,
   "id": "e653cb12-1d1c-4fa7-a1b1-f77398a005c8",
   "metadata": {
    "tags": []
   },
   "outputs": [],
   "source": [
    "cont_ftrs = houses.select_dtypes(exclude = [object])\n",
    "create_scatterplots(cont_ftrs, houses['saleprice'], 'saleprice')"
   ]
  },
  {
   "cell_type": "code",
   "execution_count": null,
   "id": "5afc5d43-452d-4eec-9530-908e7e7a07a0",
   "metadata": {
    "tags": []
   },
   "outputs": [],
   "source": [
    "def create_hist(df):\n",
    "    for col in df.columns:\n",
    "        p = sPlot(df.col, )"
   ]
  },
  {
   "cell_type": "code",
   "execution_count": null,
   "id": "4a9c9fe2-6558-4c13-9013-5a0d9b26d413",
   "metadata": {},
   "outputs": [],
   "source": [
    "def create_barplots(df,target):\n",
    "    for col in df.columns:\n",
    "        sns.barplot(x = df[col], y = target)"
   ]
  },
  {
   "cell_type": "code",
   "execution_count": null,
   "id": "8e3dcb1e-4afc-4db7-b255-3c96d1ac62ac",
   "metadata": {},
   "outputs": [],
   "source": [
    "def create_graphs(df, target):\n",
    "    target_col = df[target]\n",
    "    cont_ftrs = df.select_dtypes(exclude = [object])\n",
    "    create_scatterplots(cont_ftrs, target_col, target)\n",
    "    cat_ftrs = df.select_dtypes(include = [object])\n",
    "    df[target] = target_col"
   ]
  },
  {
   "cell_type": "code",
   "execution_count": null,
   "id": "99f0d283-839c-4430-9a22-56eaa818fe87",
   "metadata": {
    "tags": []
   },
   "outputs": [],
   "source": [
    "create_graphs(houses,'saleprice')"
   ]
  }
 ],
 "metadata": {
  "kernelspec": {
   "display_name": "Python 3 (ipykernel)",
   "language": "python",
   "name": "python3"
  },
  "language_info": {
   "codemirror_mode": {
    "name": "ipython",
    "version": 3
   },
   "file_extension": ".py",
   "mimetype": "text/x-python",
   "name": "python",
   "nbconvert_exporter": "python",
   "pygments_lexer": "ipython3",
   "version": "3.9.7"
  }
 },
 "nbformat": 4,
 "nbformat_minor": 5
}
